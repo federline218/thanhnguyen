{
 "cells": [
  {
   "cell_type": "code",
   "execution_count": 1,
   "id": "dad83070",
   "metadata": {},
   "outputs": [],
   "source": [
    "import pandas as pd\n",
    "import numpy as np\n",
    "import matplotlib\n",
    "import matplotlib.pyplot as plt\n",
    "import seaborn as sns"
   ]
  },
  {
   "cell_type": "code",
   "execution_count": 2,
   "id": "66332384",
   "metadata": {},
   "outputs": [
    {
     "data": {
      "text/html": [
       "<div>\n",
       "<style scoped>\n",
       "    .dataframe tbody tr th:only-of-type {\n",
       "        vertical-align: middle;\n",
       "    }\n",
       "\n",
       "    .dataframe tbody tr th {\n",
       "        vertical-align: top;\n",
       "    }\n",
       "\n",
       "    .dataframe thead th {\n",
       "        text-align: right;\n",
       "    }\n",
       "</style>\n",
       "<table border=\"1\" class=\"dataframe\">\n",
       "  <thead>\n",
       "    <tr style=\"text-align: right;\">\n",
       "      <th></th>\n",
       "      <th>Unnamed: 0</th>\n",
       "      <th>SeriousDlqin2yrs</th>\n",
       "      <th>RevolvingUtilizationOfUnsecuredLines</th>\n",
       "      <th>age</th>\n",
       "      <th>NumberOfTime30-59DaysPastDueNotWorse</th>\n",
       "      <th>DebtRatio</th>\n",
       "      <th>MonthlyIncome</th>\n",
       "      <th>NumberOfOpenCreditLinesAndLoans</th>\n",
       "      <th>NumberOfTimes90DaysLate</th>\n",
       "      <th>NumberRealEstateLoansOrLines</th>\n",
       "      <th>NumberOfTime60-89DaysPastDueNotWorse</th>\n",
       "      <th>NumberOfDependents</th>\n",
       "    </tr>\n",
       "  </thead>\n",
       "  <tbody>\n",
       "    <tr>\n",
       "      <th>0</th>\n",
       "      <td>9</td>\n",
       "      <td>0</td>\n",
       "      <td>0.116951</td>\n",
       "      <td>27</td>\n",
       "      <td>0</td>\n",
       "      <td>46.000000</td>\n",
       "      <td>NaN</td>\n",
       "      <td>2</td>\n",
       "      <td>0</td>\n",
       "      <td>0</td>\n",
       "      <td>0</td>\n",
       "      <td>NaN</td>\n",
       "    </tr>\n",
       "    <tr>\n",
       "      <th>1</th>\n",
       "      <td>10</td>\n",
       "      <td>0</td>\n",
       "      <td>0.189169</td>\n",
       "      <td>57</td>\n",
       "      <td>0</td>\n",
       "      <td>0.606291</td>\n",
       "      <td>23684.0</td>\n",
       "      <td>9</td>\n",
       "      <td>0</td>\n",
       "      <td>4</td>\n",
       "      <td>0</td>\n",
       "      <td>2.0</td>\n",
       "    </tr>\n",
       "    <tr>\n",
       "      <th>2</th>\n",
       "      <td>11</td>\n",
       "      <td>0</td>\n",
       "      <td>0.644226</td>\n",
       "      <td>30</td>\n",
       "      <td>0</td>\n",
       "      <td>0.309476</td>\n",
       "      <td>2500.0</td>\n",
       "      <td>5</td>\n",
       "      <td>0</td>\n",
       "      <td>0</td>\n",
       "      <td>0</td>\n",
       "      <td>0.0</td>\n",
       "    </tr>\n",
       "    <tr>\n",
       "      <th>3</th>\n",
       "      <td>12</td>\n",
       "      <td>0</td>\n",
       "      <td>0.018798</td>\n",
       "      <td>51</td>\n",
       "      <td>0</td>\n",
       "      <td>0.531529</td>\n",
       "      <td>6501.0</td>\n",
       "      <td>7</td>\n",
       "      <td>0</td>\n",
       "      <td>2</td>\n",
       "      <td>0</td>\n",
       "      <td>2.0</td>\n",
       "    </tr>\n",
       "    <tr>\n",
       "      <th>4</th>\n",
       "      <td>13</td>\n",
       "      <td>0</td>\n",
       "      <td>0.010352</td>\n",
       "      <td>46</td>\n",
       "      <td>0</td>\n",
       "      <td>0.298354</td>\n",
       "      <td>12454.0</td>\n",
       "      <td>13</td>\n",
       "      <td>0</td>\n",
       "      <td>2</td>\n",
       "      <td>0</td>\n",
       "      <td>2.0</td>\n",
       "    </tr>\n",
       "  </tbody>\n",
       "</table>\n",
       "</div>"
      ],
      "text/plain": [
       "   Unnamed: 0  SeriousDlqin2yrs  RevolvingUtilizationOfUnsecuredLines  age  \\\n",
       "0           9                 0                              0.116951   27   \n",
       "1          10                 0                              0.189169   57   \n",
       "2          11                 0                              0.644226   30   \n",
       "3          12                 0                              0.018798   51   \n",
       "4          13                 0                              0.010352   46   \n",
       "\n",
       "   NumberOfTime30-59DaysPastDueNotWorse  DebtRatio  MonthlyIncome  \\\n",
       "0                                     0  46.000000            NaN   \n",
       "1                                     0   0.606291        23684.0   \n",
       "2                                     0   0.309476         2500.0   \n",
       "3                                     0   0.531529         6501.0   \n",
       "4                                     0   0.298354        12454.0   \n",
       "\n",
       "   NumberOfOpenCreditLinesAndLoans  NumberOfTimes90DaysLate  \\\n",
       "0                                2                        0   \n",
       "1                                9                        0   \n",
       "2                                5                        0   \n",
       "3                                7                        0   \n",
       "4                               13                        0   \n",
       "\n",
       "   NumberRealEstateLoansOrLines  NumberOfTime60-89DaysPastDueNotWorse  \\\n",
       "0                             0                                     0   \n",
       "1                             4                                     0   \n",
       "2                             0                                     0   \n",
       "3                             2                                     0   \n",
       "4                             2                                     0   \n",
       "\n",
       "   NumberOfDependents  \n",
       "0                 NaN  \n",
       "1                 2.0  \n",
       "2                 0.0  \n",
       "3                 2.0  \n",
       "4                 2.0  "
      ]
     },
     "execution_count": 2,
     "metadata": {},
     "output_type": "execute_result"
    }
   ],
   "source": [
    "df = pd.read_csv('Credit_Scoring.csv')\n",
    "df.head()"
   ]
  },
  {
   "cell_type": "code",
   "execution_count": 3,
   "id": "57132eeb",
   "metadata": {},
   "outputs": [
    {
     "data": {
      "text/plain": [
       "<AxesSubplot:xlabel='age', ylabel='MonthlyIncome'>"
      ]
     },
     "execution_count": 3,
     "metadata": {},
     "output_type": "execute_result"
    },
    {
     "data": {
      "image/png": "[encoded data removed]",
      "text/plain": [
       "<Figure size 1080x504 with 1 Axes>"
      ]
     },
     "metadata": {
      "needs_background": "light"
     },
     "output_type": "display_data"
    }
   ],
   "source": [
    "plt.figure(figsize=(15,7))\n",
    "sns.regplot(x=df.age, y=df.MonthlyIncome)"
   ]
  },
  {
   "cell_type": "code",
   "execution_count": 4,
   "id": "e5333d28",
   "metadata": {},
   "outputs": [
    {
     "data": {
      "text/plain": [
       "<AxesSubplot:xlabel='MonthlyIncome'>"
      ]
     },
     "execution_count": 4,
     "metadata": {},
     "output_type": "execute_result"
    },
    {
     "data": {
      "image/png": "[encoded data removed]",
      "text/plain": [
       "<Figure size 936x360 with 1 Axes>"
      ]
     },
     "metadata": {
      "needs_background": "light"
     },
     "output_type": "display_data"
    }
   ],
   "source": [
    "plt.figure(figsize=(13,5))\n",
    "sns.boxplot(x=df.MonthlyIncome)"
   ]
  },
  {
   "cell_type": "code",
   "execution_count": 5,
   "id": "8412a2f6",
   "metadata": {},
   "outputs": [
    {
     "name": "stdout",
     "output_type": "stream",
     "text": [
      "<class 'pandas.core.frame.DataFrame'>\n",
      "RangeIndex: 149992 entries, 0 to 149991\n",
      "Data columns (total 12 columns):\n",
      " #   Column                                Non-Null Count   Dtype  \n",
      "---  ------                                --------------   -----  \n",
      " 0   Unnamed: 0                            149992 non-null  int64  \n",
      " 1   SeriousDlqin2yrs                      149992 non-null  int64  \n",
      " 2   RevolvingUtilizationOfUnsecuredLines  149992 non-null  float64\n",
      " 3   age                                   149992 non-null  int64  \n",
      " 4   NumberOfTime30-59DaysPastDueNotWorse  149992 non-null  int64  \n",
      " 5   DebtRatio                             149992 non-null  float64\n",
      " 6   MonthlyIncome                         120262 non-null  float64\n",
      " 7   NumberOfOpenCreditLinesAndLoans       149992 non-null  int64  \n",
      " 8   NumberOfTimes90DaysLate               149992 non-null  int64  \n",
      " 9   NumberRealEstateLoansOrLines          149992 non-null  int64  \n",
      " 10  NumberOfTime60-89DaysPastDueNotWorse  149992 non-null  int64  \n",
      " 11  NumberOfDependents                    146068 non-null  float64\n",
      "dtypes: float64(4), int64(8)\n",
      "memory usage: 13.7 MB\n"
     ]
    }
   ],
   "source": [
    "df.info()"
   ]
  },
  {
   "cell_type": "code",
   "execution_count": 6,
   "id": "5175ca3e",
   "metadata": {},
   "outputs": [],
   "source": [
    "df1 = df.copy()"
   ]
  },
  {
   "cell_type": "code",
   "execution_count": 7,
   "id": "04a83da2",
   "metadata": {},
   "outputs": [],
   "source": [
    "df1 = df1.dropna(axis = 0, how ='any')"
   ]
  },
  {
   "cell_type": "code",
   "execution_count": 8,
   "id": "767a337c",
   "metadata": {},
   "outputs": [
    {
     "name": "stdout",
     "output_type": "stream",
     "text": [
      "<class 'pandas.core.frame.DataFrame'>\n",
      "Int64Index: 120262 entries, 1 to 149991\n",
      "Data columns (total 12 columns):\n",
      " #   Column                                Non-Null Count   Dtype  \n",
      "---  ------                                --------------   -----  \n",
      " 0   Unnamed: 0                            120262 non-null  int64  \n",
      " 1   SeriousDlqin2yrs                      120262 non-null  int64  \n",
      " 2   RevolvingUtilizationOfUnsecuredLines  120262 non-null  float64\n",
      " 3   age                                   120262 non-null  int64  \n",
      " 4   NumberOfTime30-59DaysPastDueNotWorse  120262 non-null  int64  \n",
      " 5   DebtRatio                             120262 non-null  float64\n",
      " 6   MonthlyIncome                         120262 non-null  float64\n",
      " 7   NumberOfOpenCreditLinesAndLoans       120262 non-null  int64  \n",
      " 8   NumberOfTimes90DaysLate               120262 non-null  int64  \n",
      " 9   NumberRealEstateLoansOrLines          120262 non-null  int64  \n",
      " 10  NumberOfTime60-89DaysPastDueNotWorse  120262 non-null  int64  \n",
      " 11  NumberOfDependents                    120262 non-null  float64\n",
      "dtypes: float64(4), int64(8)\n",
      "memory usage: 11.9 MB\n"
     ]
    }
   ],
   "source": [
    "df1.info()"
   ]
  },
  {
   "cell_type": "code",
   "execution_count": 9,
   "id": "980f5826",
   "metadata": {},
   "outputs": [
    {
     "data": {
      "text/html": [
       "<div>\n",
       "<style scoped>\n",
       "    .dataframe tbody tr th:only-of-type {\n",
       "        vertical-align: middle;\n",
       "    }\n",
       "\n",
       "    .dataframe tbody tr th {\n",
       "        vertical-align: top;\n",
       "    }\n",
       "\n",
       "    .dataframe thead th {\n",
       "        text-align: right;\n",
       "    }\n",
       "</style>\n",
       "<table border=\"1\" class=\"dataframe\">\n",
       "  <thead>\n",
       "    <tr style=\"text-align: right;\">\n",
       "      <th></th>\n",
       "      <th>Unnamed: 0</th>\n",
       "      <th>SeriousDlqin2yrs</th>\n",
       "      <th>RevolvingUtilizationOfUnsecuredLines</th>\n",
       "      <th>age</th>\n",
       "      <th>NumberOfTime30-59DaysPastDueNotWorse</th>\n",
       "      <th>DebtRatio</th>\n",
       "      <th>MonthlyIncome</th>\n",
       "      <th>NumberOfOpenCreditLinesAndLoans</th>\n",
       "      <th>NumberOfTimes90DaysLate</th>\n",
       "      <th>NumberRealEstateLoansOrLines</th>\n",
       "      <th>NumberOfTime60-89DaysPastDueNotWorse</th>\n",
       "      <th>NumberOfDependents</th>\n",
       "    </tr>\n",
       "  </thead>\n",
       "  <tbody>\n",
       "    <tr>\n",
       "      <th>1</th>\n",
       "      <td>10</td>\n",
       "      <td>0</td>\n",
       "      <td>0.189169</td>\n",
       "      <td>57</td>\n",
       "      <td>0</td>\n",
       "      <td>0.606291</td>\n",
       "      <td>23684.0</td>\n",
       "      <td>9</td>\n",
       "      <td>0</td>\n",
       "      <td>4</td>\n",
       "      <td>0</td>\n",
       "      <td>2.0</td>\n",
       "    </tr>\n",
       "    <tr>\n",
       "      <th>2</th>\n",
       "      <td>11</td>\n",
       "      <td>0</td>\n",
       "      <td>0.644226</td>\n",
       "      <td>30</td>\n",
       "      <td>0</td>\n",
       "      <td>0.309476</td>\n",
       "      <td>2500.0</td>\n",
       "      <td>5</td>\n",
       "      <td>0</td>\n",
       "      <td>0</td>\n",
       "      <td>0</td>\n",
       "      <td>0.0</td>\n",
       "    </tr>\n",
       "    <tr>\n",
       "      <th>3</th>\n",
       "      <td>12</td>\n",
       "      <td>0</td>\n",
       "      <td>0.018798</td>\n",
       "      <td>51</td>\n",
       "      <td>0</td>\n",
       "      <td>0.531529</td>\n",
       "      <td>6501.0</td>\n",
       "      <td>7</td>\n",
       "      <td>0</td>\n",
       "      <td>2</td>\n",
       "      <td>0</td>\n",
       "      <td>2.0</td>\n",
       "    </tr>\n",
       "    <tr>\n",
       "      <th>4</th>\n",
       "      <td>13</td>\n",
       "      <td>0</td>\n",
       "      <td>0.010352</td>\n",
       "      <td>46</td>\n",
       "      <td>0</td>\n",
       "      <td>0.298354</td>\n",
       "      <td>12454.0</td>\n",
       "      <td>13</td>\n",
       "      <td>0</td>\n",
       "      <td>2</td>\n",
       "      <td>0</td>\n",
       "      <td>2.0</td>\n",
       "    </tr>\n",
       "    <tr>\n",
       "      <th>5</th>\n",
       "      <td>14</td>\n",
       "      <td>1</td>\n",
       "      <td>0.964673</td>\n",
       "      <td>40</td>\n",
       "      <td>3</td>\n",
       "      <td>0.382965</td>\n",
       "      <td>13700.0</td>\n",
       "      <td>9</td>\n",
       "      <td>3</td>\n",
       "      <td>1</td>\n",
       "      <td>1</td>\n",
       "      <td>2.0</td>\n",
       "    </tr>\n",
       "    <tr>\n",
       "      <th>...</th>\n",
       "      <td>...</td>\n",
       "      <td>...</td>\n",
       "      <td>...</td>\n",
       "      <td>...</td>\n",
       "      <td>...</td>\n",
       "      <td>...</td>\n",
       "      <td>...</td>\n",
       "      <td>...</td>\n",
       "      <td>...</td>\n",
       "      <td>...</td>\n",
       "      <td>...</td>\n",
       "      <td>...</td>\n",
       "    </tr>\n",
       "    <tr>\n",
       "      <th>149986</th>\n",
       "      <td>149995</td>\n",
       "      <td>0</td>\n",
       "      <td>0.385742</td>\n",
       "      <td>50</td>\n",
       "      <td>0</td>\n",
       "      <td>0.404293</td>\n",
       "      <td>3400.0</td>\n",
       "      <td>7</td>\n",
       "      <td>0</td>\n",
       "      <td>0</td>\n",
       "      <td>0</td>\n",
       "      <td>0.0</td>\n",
       "    </tr>\n",
       "    <tr>\n",
       "      <th>149987</th>\n",
       "      <td>149996</td>\n",
       "      <td>0</td>\n",
       "      <td>0.040674</td>\n",
       "      <td>74</td>\n",
       "      <td>0</td>\n",
       "      <td>0.225131</td>\n",
       "      <td>2100.0</td>\n",
       "      <td>4</td>\n",
       "      <td>0</td>\n",
       "      <td>1</td>\n",
       "      <td>0</td>\n",
       "      <td>0.0</td>\n",
       "    </tr>\n",
       "    <tr>\n",
       "      <th>149988</th>\n",
       "      <td>149997</td>\n",
       "      <td>0</td>\n",
       "      <td>0.299745</td>\n",
       "      <td>44</td>\n",
       "      <td>0</td>\n",
       "      <td>0.716562</td>\n",
       "      <td>5584.0</td>\n",
       "      <td>4</td>\n",
       "      <td>0</td>\n",
       "      <td>1</td>\n",
       "      <td>0</td>\n",
       "      <td>2.0</td>\n",
       "    </tr>\n",
       "    <tr>\n",
       "      <th>149990</th>\n",
       "      <td>149999</td>\n",
       "      <td>0</td>\n",
       "      <td>0.000000</td>\n",
       "      <td>30</td>\n",
       "      <td>0</td>\n",
       "      <td>0.000000</td>\n",
       "      <td>5716.0</td>\n",
       "      <td>4</td>\n",
       "      <td>0</td>\n",
       "      <td>0</td>\n",
       "      <td>0</td>\n",
       "      <td>0.0</td>\n",
       "    </tr>\n",
       "    <tr>\n",
       "      <th>149991</th>\n",
       "      <td>150000</td>\n",
       "      <td>0</td>\n",
       "      <td>0.850283</td>\n",
       "      <td>64</td>\n",
       "      <td>0</td>\n",
       "      <td>0.249908</td>\n",
       "      <td>8158.0</td>\n",
       "      <td>8</td>\n",
       "      <td>0</td>\n",
       "      <td>2</td>\n",
       "      <td>0</td>\n",
       "      <td>0.0</td>\n",
       "    </tr>\n",
       "  </tbody>\n",
       "</table>\n",
       "<p>120262 rows × 12 columns</p>\n",
       "</div>"
      ],
      "text/plain": [
       "        Unnamed: 0  SeriousDlqin2yrs  RevolvingUtilizationOfUnsecuredLines  \\\n",
       "1               10                 0                              0.189169   \n",
       "2               11                 0                              0.644226   \n",
       "3               12                 0                              0.018798   \n",
       "4               13                 0                              0.010352   \n",
       "5               14                 1                              0.964673   \n",
       "...            ...               ...                                   ...   \n",
       "149986      149995                 0                              0.385742   \n",
       "149987      149996                 0                              0.040674   \n",
       "149988      149997                 0                              0.299745   \n",
       "149990      149999                 0                              0.000000   \n",
       "149991      150000                 0                              0.850283   \n",
       "\n",
       "        age  NumberOfTime30-59DaysPastDueNotWorse  DebtRatio  MonthlyIncome  \\\n",
       "1        57                                     0   0.606291        23684.0   \n",
       "2        30                                     0   0.309476         2500.0   \n",
       "3        51                                     0   0.531529         6501.0   \n",
       "4        46                                     0   0.298354        12454.0   \n",
       "5        40                                     3   0.382965        13700.0   \n",
       "...     ...                                   ...        ...            ...   \n",
       "149986   50                                     0   0.404293         3400.0   \n",
       "149987   74                                     0   0.225131         2100.0   \n",
       "149988   44                                     0   0.716562         5584.0   \n",
       "149990   30                                     0   0.000000         5716.0   \n",
       "149991   64                                     0   0.249908         8158.0   \n",
       "\n",
       "        NumberOfOpenCreditLinesAndLoans  NumberOfTimes90DaysLate  \\\n",
       "1                                     9                        0   \n",
       "2                                     5                        0   \n",
       "3                                     7                        0   \n",
       "4                                    13                        0   \n",
       "5                                     9                        3   \n",
       "...                                 ...                      ...   \n",
       "149986                                7                        0   \n",
       "149987                                4                        0   \n",
       "149988                                4                        0   \n",
       "149990                                4                        0   \n",
       "149991                                8                        0   \n",
       "\n",
       "        NumberRealEstateLoansOrLines  NumberOfTime60-89DaysPastDueNotWorse  \\\n",
       "1                                  4                                     0   \n",
       "2                                  0                                     0   \n",
       "3                                  2                                     0   \n",
       "4                                  2                                     0   \n",
       "5                                  1                                     1   \n",
       "...                              ...                                   ...   \n",
       "149986                             0                                     0   \n",
       "149987                             1                                     0   \n",
       "149988                             1                                     0   \n",
       "149990                             0                                     0   \n",
       "149991                             2                                     0   \n",
       "\n",
       "        NumberOfDependents  \n",
       "1                      2.0  \n",
       "2                      0.0  \n",
       "3                      2.0  \n",
       "4                      2.0  \n",
       "5                      2.0  \n",
       "...                    ...  \n",
       "149986                 0.0  \n",
       "149987                 0.0  \n",
       "149988                 2.0  \n",
       "149990                 0.0  \n",
       "149991                 0.0  \n",
       "\n",
       "[120262 rows x 12 columns]"
      ]
     },
     "execution_count": 9,
     "metadata": {},
     "output_type": "execute_result"
    }
   ],
   "source": [
    "df1"
   ]
  },
  {
   "cell_type": "code",
   "execution_count": 10,
   "id": "71878ea9",
   "metadata": {},
   "outputs": [
    {
     "data": {
      "text/plain": [
       "<AxesSubplot:xlabel='MonthlyIncome'>"
      ]
     },
     "execution_count": 10,
     "metadata": {},
     "output_type": "execute_result"
    },
    {
     "data": {
      "image/png": "[encoded data removed]",
      "text/plain": [
       "<Figure size 936x360 with 1 Axes>"
      ]
     },
     "metadata": {
      "needs_background": "light"
     },
     "output_type": "display_data"
    }
   ],
   "source": [
    "plt.figure(figsize=(13,5))\n",
    "sns.boxplot(x=df1.MonthlyIncome)"
   ]
  },
  {
   "cell_type": "code",
   "execution_count": 11,
   "id": "aa756011",
   "metadata": {},
   "outputs": [
    {
     "data": {
      "text/html": [
       "<div>\n",
       "<style scoped>\n",
       "    .dataframe tbody tr th:only-of-type {\n",
       "        vertical-align: middle;\n",
       "    }\n",
       "\n",
       "    .dataframe tbody tr th {\n",
       "        vertical-align: top;\n",
       "    }\n",
       "\n",
       "    .dataframe thead th {\n",
       "        text-align: right;\n",
       "    }\n",
       "</style>\n",
       "<table border=\"1\" class=\"dataframe\">\n",
       "  <thead>\n",
       "    <tr style=\"text-align: right;\">\n",
       "      <th></th>\n",
       "      <th>Unnamed: 0</th>\n",
       "      <th>SeriousDlqin2yrs</th>\n",
       "      <th>RevolvingUtilizationOfUnsecuredLines</th>\n",
       "      <th>age</th>\n",
       "      <th>NumberOfTime30-59DaysPastDueNotWorse</th>\n",
       "      <th>DebtRatio</th>\n",
       "      <th>MonthlyIncome</th>\n",
       "      <th>NumberOfOpenCreditLinesAndLoans</th>\n",
       "      <th>NumberOfTimes90DaysLate</th>\n",
       "      <th>NumberRealEstateLoansOrLines</th>\n",
       "      <th>NumberOfTime60-89DaysPastDueNotWorse</th>\n",
       "      <th>NumberOfDependents</th>\n",
       "    </tr>\n",
       "  </thead>\n",
       "  <tbody>\n",
       "    <tr>\n",
       "      <th>1</th>\n",
       "      <td>10</td>\n",
       "      <td>0</td>\n",
       "      <td>0.189169</td>\n",
       "      <td>57</td>\n",
       "      <td>0</td>\n",
       "      <td>0.606291</td>\n",
       "      <td>23684.0</td>\n",
       "      <td>9</td>\n",
       "      <td>0</td>\n",
       "      <td>4</td>\n",
       "      <td>0</td>\n",
       "      <td>2.0</td>\n",
       "    </tr>\n",
       "    <tr>\n",
       "      <th>2</th>\n",
       "      <td>11</td>\n",
       "      <td>0</td>\n",
       "      <td>0.644226</td>\n",
       "      <td>30</td>\n",
       "      <td>0</td>\n",
       "      <td>0.309476</td>\n",
       "      <td>2500.0</td>\n",
       "      <td>5</td>\n",
       "      <td>0</td>\n",
       "      <td>0</td>\n",
       "      <td>0</td>\n",
       "      <td>0.0</td>\n",
       "    </tr>\n",
       "    <tr>\n",
       "      <th>3</th>\n",
       "      <td>12</td>\n",
       "      <td>0</td>\n",
       "      <td>0.018798</td>\n",
       "      <td>51</td>\n",
       "      <td>0</td>\n",
       "      <td>0.531529</td>\n",
       "      <td>6501.0</td>\n",
       "      <td>7</td>\n",
       "      <td>0</td>\n",
       "      <td>2</td>\n",
       "      <td>0</td>\n",
       "      <td>2.0</td>\n",
       "    </tr>\n",
       "    <tr>\n",
       "      <th>4</th>\n",
       "      <td>13</td>\n",
       "      <td>0</td>\n",
       "      <td>0.010352</td>\n",
       "      <td>46</td>\n",
       "      <td>0</td>\n",
       "      <td>0.298354</td>\n",
       "      <td>12454.0</td>\n",
       "      <td>13</td>\n",
       "      <td>0</td>\n",
       "      <td>2</td>\n",
       "      <td>0</td>\n",
       "      <td>2.0</td>\n",
       "    </tr>\n",
       "    <tr>\n",
       "      <th>5</th>\n",
       "      <td>14</td>\n",
       "      <td>1</td>\n",
       "      <td>0.964673</td>\n",
       "      <td>40</td>\n",
       "      <td>3</td>\n",
       "      <td>0.382965</td>\n",
       "      <td>13700.0</td>\n",
       "      <td>9</td>\n",
       "      <td>3</td>\n",
       "      <td>1</td>\n",
       "      <td>1</td>\n",
       "      <td>2.0</td>\n",
       "    </tr>\n",
       "    <tr>\n",
       "      <th>...</th>\n",
       "      <td>...</td>\n",
       "      <td>...</td>\n",
       "      <td>...</td>\n",
       "      <td>...</td>\n",
       "      <td>...</td>\n",
       "      <td>...</td>\n",
       "      <td>...</td>\n",
       "      <td>...</td>\n",
       "      <td>...</td>\n",
       "      <td>...</td>\n",
       "      <td>...</td>\n",
       "      <td>...</td>\n",
       "    </tr>\n",
       "    <tr>\n",
       "      <th>149986</th>\n",
       "      <td>149995</td>\n",
       "      <td>0</td>\n",
       "      <td>0.385742</td>\n",
       "      <td>50</td>\n",
       "      <td>0</td>\n",
       "      <td>0.404293</td>\n",
       "      <td>3400.0</td>\n",
       "      <td>7</td>\n",
       "      <td>0</td>\n",
       "      <td>0</td>\n",
       "      <td>0</td>\n",
       "      <td>0.0</td>\n",
       "    </tr>\n",
       "    <tr>\n",
       "      <th>149987</th>\n",
       "      <td>149996</td>\n",
       "      <td>0</td>\n",
       "      <td>0.040674</td>\n",
       "      <td>74</td>\n",
       "      <td>0</td>\n",
       "      <td>0.225131</td>\n",
       "      <td>2100.0</td>\n",
       "      <td>4</td>\n",
       "      <td>0</td>\n",
       "      <td>1</td>\n",
       "      <td>0</td>\n",
       "      <td>0.0</td>\n",
       "    </tr>\n",
       "    <tr>\n",
       "      <th>149988</th>\n",
       "      <td>149997</td>\n",
       "      <td>0</td>\n",
       "      <td>0.299745</td>\n",
       "      <td>44</td>\n",
       "      <td>0</td>\n",
       "      <td>0.716562</td>\n",
       "      <td>5584.0</td>\n",
       "      <td>4</td>\n",
       "      <td>0</td>\n",
       "      <td>1</td>\n",
       "      <td>0</td>\n",
       "      <td>2.0</td>\n",
       "    </tr>\n",
       "    <tr>\n",
       "      <th>149990</th>\n",
       "      <td>149999</td>\n",
       "      <td>0</td>\n",
       "      <td>0.000000</td>\n",
       "      <td>30</td>\n",
       "      <td>0</td>\n",
       "      <td>0.000000</td>\n",
       "      <td>5716.0</td>\n",
       "      <td>4</td>\n",
       "      <td>0</td>\n",
       "      <td>0</td>\n",
       "      <td>0</td>\n",
       "      <td>0.0</td>\n",
       "    </tr>\n",
       "    <tr>\n",
       "      <th>149991</th>\n",
       "      <td>150000</td>\n",
       "      <td>0</td>\n",
       "      <td>0.850283</td>\n",
       "      <td>64</td>\n",
       "      <td>0</td>\n",
       "      <td>0.249908</td>\n",
       "      <td>8158.0</td>\n",
       "      <td>8</td>\n",
       "      <td>0</td>\n",
       "      <td>2</td>\n",
       "      <td>0</td>\n",
       "      <td>0.0</td>\n",
       "    </tr>\n",
       "  </tbody>\n",
       "</table>\n",
       "<p>120262 rows × 12 columns</p>\n",
       "</div>"
      ],
      "text/plain": [
       "        Unnamed: 0  SeriousDlqin2yrs  RevolvingUtilizationOfUnsecuredLines  \\\n",
       "1               10                 0                              0.189169   \n",
       "2               11                 0                              0.644226   \n",
       "3               12                 0                              0.018798   \n",
       "4               13                 0                              0.010352   \n",
       "5               14                 1                              0.964673   \n",
       "...            ...               ...                                   ...   \n",
       "149986      149995                 0                              0.385742   \n",
       "149987      149996                 0                              0.040674   \n",
       "149988      149997                 0                              0.299745   \n",
       "149990      149999                 0                              0.000000   \n",
       "149991      150000                 0                              0.850283   \n",
       "\n",
       "        age  NumberOfTime30-59DaysPastDueNotWorse  DebtRatio  MonthlyIncome  \\\n",
       "1        57                                     0   0.606291        23684.0   \n",
       "2        30                                     0   0.309476         2500.0   \n",
       "3        51                                     0   0.531529         6501.0   \n",
       "4        46                                     0   0.298354        12454.0   \n",
       "5        40                                     3   0.382965        13700.0   \n",
       "...     ...                                   ...        ...            ...   \n",
       "149986   50                                     0   0.404293         3400.0   \n",
       "149987   74                                     0   0.225131         2100.0   \n",
       "149988   44                                     0   0.716562         5584.0   \n",
       "149990   30                                     0   0.000000         5716.0   \n",
       "149991   64                                     0   0.249908         8158.0   \n",
       "\n",
       "        NumberOfOpenCreditLinesAndLoans  NumberOfTimes90DaysLate  \\\n",
       "1                                     9                        0   \n",
       "2                                     5                        0   \n",
       "3                                     7                        0   \n",
       "4                                    13                        0   \n",
       "5                                     9                        3   \n",
       "...                                 ...                      ...   \n",
       "149986                                7                        0   \n",
       "149987                                4                        0   \n",
       "149988                                4                        0   \n",
       "149990                                4                        0   \n",
       "149991                                8                        0   \n",
       "\n",
       "        NumberRealEstateLoansOrLines  NumberOfTime60-89DaysPastDueNotWorse  \\\n",
       "1                                  4                                     0   \n",
       "2                                  0                                     0   \n",
       "3                                  2                                     0   \n",
       "4                                  2                                     0   \n",
       "5                                  1                                     1   \n",
       "...                              ...                                   ...   \n",
       "149986                             0                                     0   \n",
       "149987                             1                                     0   \n",
       "149988                             1                                     0   \n",
       "149990                             0                                     0   \n",
       "149991                             2                                     0   \n",
       "\n",
       "        NumberOfDependents  \n",
       "1                      2.0  \n",
       "2                      0.0  \n",
       "3                      2.0  \n",
       "4                      2.0  \n",
       "5                      2.0  \n",
       "...                    ...  \n",
       "149986                 0.0  \n",
       "149987                 0.0  \n",
       "149988                 2.0  \n",
       "149990                 0.0  \n",
       "149991                 0.0  \n",
       "\n",
       "[120262 rows x 12 columns]"
      ]
     },
     "execution_count": 11,
     "metadata": {},
     "output_type": "execute_result"
    }
   ],
   "source": [
    "df1.loc[(df1!=0).any(axis=1)]"
   ]
  },
  {
   "cell_type": "code",
   "execution_count": 12,
   "id": "b7fef219",
   "metadata": {},
   "outputs": [],
   "source": [
    "df1= df1[df1['MonthlyIncome'] != 0]"
   ]
  },
  {
   "cell_type": "code",
   "execution_count": 13,
   "id": "041c1d51",
   "metadata": {},
   "outputs": [
    {
     "name": "stdout",
     "output_type": "stream",
     "text": [
      "<class 'pandas.core.frame.DataFrame'>\n",
      "Int64Index: 118628 entries, 1 to 149991\n",
      "Data columns (total 12 columns):\n",
      " #   Column                                Non-Null Count   Dtype  \n",
      "---  ------                                --------------   -----  \n",
      " 0   Unnamed: 0                            118628 non-null  int64  \n",
      " 1   SeriousDlqin2yrs                      118628 non-null  int64  \n",
      " 2   RevolvingUtilizationOfUnsecuredLines  118628 non-null  float64\n",
      " 3   age                                   118628 non-null  int64  \n",
      " 4   NumberOfTime30-59DaysPastDueNotWorse  118628 non-null  int64  \n",
      " 5   DebtRatio                             118628 non-null  float64\n",
      " 6   MonthlyIncome                         118628 non-null  float64\n",
      " 7   NumberOfOpenCreditLinesAndLoans       118628 non-null  int64  \n",
      " 8   NumberOfTimes90DaysLate               118628 non-null  int64  \n",
      " 9   NumberRealEstateLoansOrLines          118628 non-null  int64  \n",
      " 10  NumberOfTime60-89DaysPastDueNotWorse  118628 non-null  int64  \n",
      " 11  NumberOfDependents                    118628 non-null  float64\n",
      "dtypes: float64(4), int64(8)\n",
      "memory usage: 11.8 MB\n"
     ]
    }
   ],
   "source": [
    "df1.info()"
   ]
  },
  {
   "cell_type": "code",
   "execution_count": 14,
   "id": "b328bbd1",
   "metadata": {},
   "outputs": [
    {
     "data": {
      "text/plain": [
       "<AxesSubplot:xlabel='MonthlyIncome'>"
      ]
     },
     "execution_count": 14,
     "metadata": {},
     "output_type": "execute_result"
    },
    {
     "data": {
      "image/png": "[encoded data removed]",
      "text/plain": [
       "<Figure size 936x360 with 1 Axes>"
      ]
     },
     "metadata": {
      "needs_background": "light"
     },
     "output_type": "display_data"
    }
   ],
   "source": [
    "plt.figure(figsize=(13,5))\n",
    "sns.boxplot(x=df1.MonthlyIncome)"
   ]
  },
  {
   "cell_type": "code",
   "execution_count": 15,
   "id": "f5fa41d3",
   "metadata": {},
   "outputs": [
    {
     "data": {
      "text/plain": [
       "<AxesSubplot:xlabel='age', ylabel='MonthlyIncome'>"
      ]
     },
     "execution_count": 15,
     "metadata": {},
     "output_type": "execute_result"
    },
    {
     "data": {
      "image/png": "[encoded data removed]",
      "text/plain": [
       "<Figure size 1080x504 with 1 Axes>"
      ]
     },
     "metadata": {
      "needs_background": "light"
     },
     "output_type": "display_data"
    }
   ],
   "source": [
    "plt.figure(figsize=(15,7))\n",
    "sns.regplot(x=df1.age, y=df1.MonthlyIncome)"
   ]
  },
  {
   "cell_type": "code",
   "execution_count": 16,
   "id": "9ab6eeed",
   "metadata": {},
   "outputs": [
    {
     "name": "stdout",
     "output_type": "stream",
     "text": [
      "(0.036814839685678113, 7.245410122417647e-37)\n"
     ]
    }
   ],
   "source": [
    "from scipy import  stats\n",
    "\n",
    "df2 = df1.filter([\"MonthlyIncome\", \"age\"])\n",
    "df2 = df2.dropna()\n",
    "print(stats.pearsonr(df2.MonthlyIncome, df2.age))"
   ]
  },
  {
   "cell_type": "code",
   "execution_count": 17,
   "id": "0688b724",
   "metadata": {},
   "outputs": [
    {
     "data": {
      "text/plain": [
       "(149992, 12)"
      ]
     },
     "execution_count": 17,
     "metadata": {},
     "output_type": "execute_result"
    }
   ],
   "source": [
    "df.shape"
   ]
  },
  {
   "cell_type": "code",
   "execution_count": 18,
   "id": "57b92511",
   "metadata": {},
   "outputs": [
    {
     "data": {
      "text/plain": [
       "Unnamed: 0                                  0\n",
       "SeriousDlqin2yrs                            0\n",
       "RevolvingUtilizationOfUnsecuredLines        0\n",
       "age                                         0\n",
       "NumberOfTime30-59DaysPastDueNotWorse        0\n",
       "DebtRatio                                   0\n",
       "MonthlyIncome                           29730\n",
       "NumberOfOpenCreditLinesAndLoans             0\n",
       "NumberOfTimes90DaysLate                     0\n",
       "NumberRealEstateLoansOrLines                0\n",
       "NumberOfTime60-89DaysPastDueNotWorse        0\n",
       "NumberOfDependents                       3924\n",
       "dtype: int64"
      ]
     },
     "execution_count": 18,
     "metadata": {},
     "output_type": "execute_result"
    }
   ],
   "source": [
    "df.isnull().sum()"
   ]
  },
  {
   "cell_type": "code",
   "execution_count": 19,
   "id": "76e42c27",
   "metadata": {},
   "outputs": [
    {
     "data": {
      "image/png": "[encoded data removed]",
      "text/plain": [
       "<Figure size 720x360 with 1 Axes>"
      ]
     },
     "metadata": {
      "needs_background": "light"
     },
     "output_type": "display_data"
    }
   ],
   "source": [
    "ax = sns.countplot(x = df.SeriousDlqin2yrs ,palette=\"Set3\")\n",
    "sns.set(font_scale=1.5)\n",
    "ax.set_ylim(top = 150000)\n",
    "ax.set_xlabel('Financial difficulty in 2 years')\n",
    "ax.set_ylabel('Frequency')\n",
    "fig = plt.gcf()\n",
    "fig.set_size_inches(10,5)\n",
    "ax.set_ylim(top=160000)\n",
    "\n",
    "plt.show()"
   ]
  },
  {
   "cell_type": "markdown",
   "id": "03ac3ab5",
   "metadata": {},
   "source": [
    "\n",
    "\n"
   ]
  },
  {
   "cell_type": "markdown",
   "id": "d5fcaaa7",
   "metadata": {},
   "source": [
    "# Detecting outliers\n"
   ]
  },
  {
   "cell_type": "code",
   "execution_count": 25,
   "id": "09e2078b",
   "metadata": {},
   "outputs": [],
   "source": [
    "from collections import Counter\n",
    "\n",
    "def detect_outliers(df,n,features):\n",
    "    outlier_indices = []\n",
    "    \n",
    "    # iterate over features(columns)\n",
    "    for col in features:\n",
    "        # 1st quartile (25%)\n",
    "        Q1 = np.percentile(df[col], 25)\n",
    "        # 3rd quartile (75%)\n",
    "        Q3 = np.percentile(df[col],75)\n",
    "        # Interquartile range (IQR)\n",
    "        IQR = Q3 - Q1\n",
    "        \n",
    "        # outlier step\n",
    "        outlier_step = 1.5 * IQR\n",
    "        \n",
    "        # Determine a list of indices of outliers for feature col\n",
    "        outlier_list_col = df[(df[col] < Q1 - outlier_step) | (df[col] > Q3 + outlier_step )].index\n",
    "        \n",
    "        # append the found outlier indices for col to the list of outlier indices \n",
    "        outlier_indices.extend(outlier_list_col)\n",
    "        \n",
    "    # select observations containing more than 2 outliers\n",
    "    outlier_indices = Counter(outlier_indices)        \n",
    "    multiple_outliers = list( k for k, v in outlier_indices.items() if v > n )\n",
    "    \n",
    "    return multiple_outliers\n",
    "\n",
    "# detect outliers from Age, SibSp , Parch and Fare\n",
    "# These are the numerical features present in the dataset\n",
    "Outliers_to_drop = detect_outliers(df,2,[\"RevolvingUtilizationOfUnsecuredLines\",\n",
    "                                            \"age\",\n",
    "                                            \"NumberOfTime30-59DaysPastDueNotWorse\",\n",
    "                                            \"DebtRatio\",\n",
    "                                            \"MonthlyIncome\",\n",
    "                                            \"NumberOfOpenCreditLinesAndLoans\",\n",
    "                                            \"NumberOfTimes90DaysLate\",\n",
    "                                            \"NumberRealEstateLoansOrLines\",\n",
    "                                            \"NumberOfTime60-89DaysPastDueNotWorse\",\n",
    "                                            \"Unnamed: 0\",\n",
    "                                            \"NumberOfDependents\"])"
   ]
  },
  {
   "cell_type": "code",
   "execution_count": 26,
   "id": "4a361016",
   "metadata": {},
   "outputs": [
    {
     "data": {
      "text/html": [
       "<div>\n",
       "<style scoped>\n",
       "    .dataframe tbody tr th:only-of-type {\n",
       "        vertical-align: middle;\n",
       "    }\n",
       "\n",
       "    .dataframe tbody tr th {\n",
       "        vertical-align: top;\n",
       "    }\n",
       "\n",
       "    .dataframe thead th {\n",
       "        text-align: right;\n",
       "    }\n",
       "</style>\n",
       "<table border=\"1\" class=\"dataframe\">\n",
       "  <thead>\n",
       "    <tr style=\"text-align: right;\">\n",
       "      <th></th>\n",
       "      <th>Unnamed: 0</th>\n",
       "      <th>SeriousDlqin2yrs</th>\n",
       "      <th>RevolvingUtilizationOfUnsecuredLines</th>\n",
       "      <th>age</th>\n",
       "      <th>NumberOfTime30-59DaysPastDueNotWorse</th>\n",
       "      <th>DebtRatio</th>\n",
       "      <th>MonthlyIncome</th>\n",
       "      <th>NumberOfOpenCreditLinesAndLoans</th>\n",
       "      <th>NumberOfTimes90DaysLate</th>\n",
       "      <th>NumberRealEstateLoansOrLines</th>\n",
       "      <th>NumberOfTime60-89DaysPastDueNotWorse</th>\n",
       "      <th>NumberOfDependents</th>\n",
       "    </tr>\n",
       "  </thead>\n",
       "  <tbody>\n",
       "    <tr>\n",
       "      <th>2357</th>\n",
       "      <td>2421</td>\n",
       "      <td>1</td>\n",
       "      <td>1.305389</td>\n",
       "      <td>63</td>\n",
       "      <td>1</td>\n",
       "      <td>0.182891</td>\n",
       "      <td>1355.0</td>\n",
       "      <td>3</td>\n",
       "      <td>0</td>\n",
       "      <td>0</td>\n",
       "      <td>1</td>\n",
       "      <td>0.0</td>\n",
       "    </tr>\n",
       "    <tr>\n",
       "      <th>8535</th>\n",
       "      <td>8746</td>\n",
       "      <td>1</td>\n",
       "      <td>1.305648</td>\n",
       "      <td>32</td>\n",
       "      <td>1</td>\n",
       "      <td>713.000000</td>\n",
       "      <td>NaN</td>\n",
       "      <td>3</td>\n",
       "      <td>0</td>\n",
       "      <td>0</td>\n",
       "      <td>0</td>\n",
       "      <td>1.0</td>\n",
       "    </tr>\n",
       "    <tr>\n",
       "      <th>17787</th>\n",
       "      <td>18228</td>\n",
       "      <td>0</td>\n",
       "      <td>1.340824</td>\n",
       "      <td>62</td>\n",
       "      <td>3</td>\n",
       "      <td>0.613301</td>\n",
       "      <td>5833.0</td>\n",
       "      <td>6</td>\n",
       "      <td>2</td>\n",
       "      <td>1</td>\n",
       "      <td>0</td>\n",
       "      <td>0.0</td>\n",
       "    </tr>\n",
       "    <tr>\n",
       "      <th>19903</th>\n",
       "      <td>20411</td>\n",
       "      <td>1</td>\n",
       "      <td>1.323274</td>\n",
       "      <td>41</td>\n",
       "      <td>1</td>\n",
       "      <td>0.329169</td>\n",
       "      <td>1600.0</td>\n",
       "      <td>8</td>\n",
       "      <td>0</td>\n",
       "      <td>0</td>\n",
       "      <td>2</td>\n",
       "      <td>2.0</td>\n",
       "    </tr>\n",
       "    <tr>\n",
       "      <th>25634</th>\n",
       "      <td>26277</td>\n",
       "      <td>1</td>\n",
       "      <td>1.311844</td>\n",
       "      <td>40</td>\n",
       "      <td>1</td>\n",
       "      <td>0.625335</td>\n",
       "      <td>4483.0</td>\n",
       "      <td>9</td>\n",
       "      <td>0</td>\n",
       "      <td>2</td>\n",
       "      <td>2</td>\n",
       "      <td>2.0</td>\n",
       "    </tr>\n",
       "    <tr>\n",
       "      <th>28289</th>\n",
       "      <td>28987</td>\n",
       "      <td>1</td>\n",
       "      <td>1.325581</td>\n",
       "      <td>28</td>\n",
       "      <td>0</td>\n",
       "      <td>0.063764</td>\n",
       "      <td>4500.0</td>\n",
       "      <td>2</td>\n",
       "      <td>1</td>\n",
       "      <td>0</td>\n",
       "      <td>2</td>\n",
       "      <td>0.0</td>\n",
       "    </tr>\n",
       "    <tr>\n",
       "      <th>29270</th>\n",
       "      <td>29993</td>\n",
       "      <td>0</td>\n",
       "      <td>1.315860</td>\n",
       "      <td>51</td>\n",
       "      <td>3</td>\n",
       "      <td>0.253000</td>\n",
       "      <td>6916.0</td>\n",
       "      <td>1</td>\n",
       "      <td>2</td>\n",
       "      <td>1</td>\n",
       "      <td>0</td>\n",
       "      <td>0.0</td>\n",
       "    </tr>\n",
       "    <tr>\n",
       "      <th>34823</th>\n",
       "      <td>35711</td>\n",
       "      <td>0</td>\n",
       "      <td>1.347305</td>\n",
       "      <td>36</td>\n",
       "      <td>1</td>\n",
       "      <td>116.000000</td>\n",
       "      <td>NaN</td>\n",
       "      <td>1</td>\n",
       "      <td>0</td>\n",
       "      <td>0</td>\n",
       "      <td>0</td>\n",
       "      <td>0.0</td>\n",
       "    </tr>\n",
       "    <tr>\n",
       "      <th>36785</th>\n",
       "      <td>37719</td>\n",
       "      <td>0</td>\n",
       "      <td>1.324168</td>\n",
       "      <td>36</td>\n",
       "      <td>2</td>\n",
       "      <td>0.110937</td>\n",
       "      <td>5750.0</td>\n",
       "      <td>7</td>\n",
       "      <td>0</td>\n",
       "      <td>1</td>\n",
       "      <td>1</td>\n",
       "      <td>0.0</td>\n",
       "    </tr>\n",
       "    <tr>\n",
       "      <th>39632</th>\n",
       "      <td>40626</td>\n",
       "      <td>1</td>\n",
       "      <td>1.340733</td>\n",
       "      <td>42</td>\n",
       "      <td>2</td>\n",
       "      <td>0.130638</td>\n",
       "      <td>4500.0</td>\n",
       "      <td>4</td>\n",
       "      <td>2</td>\n",
       "      <td>0</td>\n",
       "      <td>0</td>\n",
       "      <td>1.0</td>\n",
       "    </tr>\n",
       "    <tr>\n",
       "      <th>41099</th>\n",
       "      <td>42126</td>\n",
       "      <td>0</td>\n",
       "      <td>1.302789</td>\n",
       "      <td>47</td>\n",
       "      <td>1</td>\n",
       "      <td>0.087565</td>\n",
       "      <td>2500.0</td>\n",
       "      <td>3</td>\n",
       "      <td>1</td>\n",
       "      <td>0</td>\n",
       "      <td>0</td>\n",
       "      <td>1.0</td>\n",
       "    </tr>\n",
       "    <tr>\n",
       "      <th>54834</th>\n",
       "      <td>56185</td>\n",
       "      <td>0</td>\n",
       "      <td>2231.000000</td>\n",
       "      <td>51</td>\n",
       "      <td>2</td>\n",
       "      <td>1.805549</td>\n",
       "      <td>4000.0</td>\n",
       "      <td>12</td>\n",
       "      <td>0</td>\n",
       "      <td>5</td>\n",
       "      <td>0</td>\n",
       "      <td>0.0</td>\n",
       "    </tr>\n",
       "    <tr>\n",
       "      <th>70015</th>\n",
       "      <td>71745</td>\n",
       "      <td>1</td>\n",
       "      <td>1.303393</td>\n",
       "      <td>34</td>\n",
       "      <td>2</td>\n",
       "      <td>0.138024</td>\n",
       "      <td>2600.0</td>\n",
       "      <td>5</td>\n",
       "      <td>1</td>\n",
       "      <td>0</td>\n",
       "      <td>0</td>\n",
       "      <td>1.0</td>\n",
       "    </tr>\n",
       "    <tr>\n",
       "      <th>72978</th>\n",
       "      <td>74766</td>\n",
       "      <td>0</td>\n",
       "      <td>1.341177</td>\n",
       "      <td>56</td>\n",
       "      <td>2</td>\n",
       "      <td>0.494066</td>\n",
       "      <td>11880.0</td>\n",
       "      <td>25</td>\n",
       "      <td>0</td>\n",
       "      <td>3</td>\n",
       "      <td>0</td>\n",
       "      <td>2.0</td>\n",
       "    </tr>\n",
       "    <tr>\n",
       "      <th>74634</th>\n",
       "      <td>76458</td>\n",
       "      <td>0</td>\n",
       "      <td>1.333333</td>\n",
       "      <td>27</td>\n",
       "      <td>1</td>\n",
       "      <td>751.000000</td>\n",
       "      <td>NaN</td>\n",
       "      <td>8</td>\n",
       "      <td>0</td>\n",
       "      <td>0</td>\n",
       "      <td>0</td>\n",
       "      <td>0.0</td>\n",
       "    </tr>\n",
       "    <tr>\n",
       "      <th>78328</th>\n",
       "      <td>80222</td>\n",
       "      <td>0</td>\n",
       "      <td>1.287854</td>\n",
       "      <td>62</td>\n",
       "      <td>1</td>\n",
       "      <td>0.062055</td>\n",
       "      <td>2384.0</td>\n",
       "      <td>2</td>\n",
       "      <td>0</td>\n",
       "      <td>0</td>\n",
       "      <td>2</td>\n",
       "      <td>0.0</td>\n",
       "    </tr>\n",
       "    <tr>\n",
       "      <th>85316</th>\n",
       "      <td>87378</td>\n",
       "      <td>1</td>\n",
       "      <td>1.302829</td>\n",
       "      <td>42</td>\n",
       "      <td>2</td>\n",
       "      <td>0.146476</td>\n",
       "      <td>6000.0</td>\n",
       "      <td>4</td>\n",
       "      <td>2</td>\n",
       "      <td>0</td>\n",
       "      <td>0</td>\n",
       "      <td>5.0</td>\n",
       "    </tr>\n",
       "    <tr>\n",
       "      <th>90219</th>\n",
       "      <td>92397</td>\n",
       "      <td>0</td>\n",
       "      <td>1.319361</td>\n",
       "      <td>55</td>\n",
       "      <td>0</td>\n",
       "      <td>0.007750</td>\n",
       "      <td>3999.0</td>\n",
       "      <td>2</td>\n",
       "      <td>1</td>\n",
       "      <td>0</td>\n",
       "      <td>2</td>\n",
       "      <td>2.0</td>\n",
       "    </tr>\n",
       "    <tr>\n",
       "      <th>93205</th>\n",
       "      <td>95457</td>\n",
       "      <td>0</td>\n",
       "      <td>1.294705</td>\n",
       "      <td>44</td>\n",
       "      <td>0</td>\n",
       "      <td>0.009192</td>\n",
       "      <td>4133.0</td>\n",
       "      <td>1</td>\n",
       "      <td>1</td>\n",
       "      <td>0</td>\n",
       "      <td>3</td>\n",
       "      <td>1.0</td>\n",
       "    </tr>\n",
       "    <tr>\n",
       "      <th>96310</th>\n",
       "      <td>98636</td>\n",
       "      <td>1</td>\n",
       "      <td>1.295352</td>\n",
       "      <td>28</td>\n",
       "      <td>5</td>\n",
       "      <td>0.285211</td>\n",
       "      <td>4259.0</td>\n",
       "      <td>12</td>\n",
       "      <td>0</td>\n",
       "      <td>0</td>\n",
       "      <td>2</td>\n",
       "      <td>2.0</td>\n",
       "    </tr>\n",
       "    <tr>\n",
       "      <th>97997</th>\n",
       "      <td>100349</td>\n",
       "      <td>1</td>\n",
       "      <td>1.313373</td>\n",
       "      <td>32</td>\n",
       "      <td>1</td>\n",
       "      <td>0.005065</td>\n",
       "      <td>3750.0</td>\n",
       "      <td>3</td>\n",
       "      <td>1</td>\n",
       "      <td>0</td>\n",
       "      <td>0</td>\n",
       "      <td>2.0</td>\n",
       "    </tr>\n",
       "    <tr>\n",
       "      <th>103298</th>\n",
       "      <td>105776</td>\n",
       "      <td>1</td>\n",
       "      <td>1.311353</td>\n",
       "      <td>62</td>\n",
       "      <td>1</td>\n",
       "      <td>0.214431</td>\n",
       "      <td>4905.0</td>\n",
       "      <td>3</td>\n",
       "      <td>3</td>\n",
       "      <td>0</td>\n",
       "      <td>0</td>\n",
       "      <td>0.0</td>\n",
       "    </tr>\n",
       "    <tr>\n",
       "      <th>115056</th>\n",
       "      <td>117822</td>\n",
       "      <td>0</td>\n",
       "      <td>1.287425</td>\n",
       "      <td>40</td>\n",
       "      <td>1</td>\n",
       "      <td>0.075517</td>\n",
       "      <td>3720.0</td>\n",
       "      <td>2</td>\n",
       "      <td>3</td>\n",
       "      <td>0</td>\n",
       "      <td>0</td>\n",
       "      <td>1.0</td>\n",
       "    </tr>\n",
       "    <tr>\n",
       "      <th>118459</th>\n",
       "      <td>121321</td>\n",
       "      <td>1</td>\n",
       "      <td>1.314607</td>\n",
       "      <td>44</td>\n",
       "      <td>4</td>\n",
       "      <td>0.196998</td>\n",
       "      <td>6461.0</td>\n",
       "      <td>5</td>\n",
       "      <td>6</td>\n",
       "      <td>0</td>\n",
       "      <td>0</td>\n",
       "      <td>2.0</td>\n",
       "    </tr>\n",
       "    <tr>\n",
       "      <th>118586</th>\n",
       "      <td>121452</td>\n",
       "      <td>1</td>\n",
       "      <td>1.301199</td>\n",
       "      <td>30</td>\n",
       "      <td>1</td>\n",
       "      <td>0.424128</td>\n",
       "      <td>4500.0</td>\n",
       "      <td>9</td>\n",
       "      <td>1</td>\n",
       "      <td>1</td>\n",
       "      <td>0</td>\n",
       "      <td>2.0</td>\n",
       "    </tr>\n",
       "    <tr>\n",
       "      <th>122173</th>\n",
       "      <td>125127</td>\n",
       "      <td>0</td>\n",
       "      <td>1.350970</td>\n",
       "      <td>42</td>\n",
       "      <td>4</td>\n",
       "      <td>0.361006</td>\n",
       "      <td>4769.0</td>\n",
       "      <td>10</td>\n",
       "      <td>0</td>\n",
       "      <td>0</td>\n",
       "      <td>2</td>\n",
       "      <td>0.0</td>\n",
       "    </tr>\n",
       "    <tr>\n",
       "      <th>123557</th>\n",
       "      <td>126544</td>\n",
       "      <td>1</td>\n",
       "      <td>1.330677</td>\n",
       "      <td>40</td>\n",
       "      <td>1</td>\n",
       "      <td>0.106943</td>\n",
       "      <td>7517.0</td>\n",
       "      <td>2</td>\n",
       "      <td>3</td>\n",
       "      <td>0</td>\n",
       "      <td>0</td>\n",
       "      <td>3.0</td>\n",
       "    </tr>\n",
       "    <tr>\n",
       "      <th>123960</th>\n",
       "      <td>126954</td>\n",
       "      <td>1</td>\n",
       "      <td>1.334721</td>\n",
       "      <td>39</td>\n",
       "      <td>1</td>\n",
       "      <td>0.091132</td>\n",
       "      <td>2446.0</td>\n",
       "      <td>7</td>\n",
       "      <td>0</td>\n",
       "      <td>0</td>\n",
       "      <td>1</td>\n",
       "      <td>3.0</td>\n",
       "    </tr>\n",
       "    <tr>\n",
       "      <th>137275</th>\n",
       "      <td>140575</td>\n",
       "      <td>1</td>\n",
       "      <td>1.285544</td>\n",
       "      <td>30</td>\n",
       "      <td>3</td>\n",
       "      <td>0.155304</td>\n",
       "      <td>6277.0</td>\n",
       "      <td>9</td>\n",
       "      <td>0</td>\n",
       "      <td>0</td>\n",
       "      <td>1</td>\n",
       "      <td>1.0</td>\n",
       "    </tr>\n",
       "    <tr>\n",
       "      <th>17346</th>\n",
       "      <td>17774</td>\n",
       "      <td>1</td>\n",
       "      <td>0.000000</td>\n",
       "      <td>47</td>\n",
       "      <td>1</td>\n",
       "      <td>1.813375</td>\n",
       "      <td>4500.0</td>\n",
       "      <td>13</td>\n",
       "      <td>0</td>\n",
       "      <td>4</td>\n",
       "      <td>1</td>\n",
       "      <td>3.0</td>\n",
       "    </tr>\n",
       "    <tr>\n",
       "      <th>106405</th>\n",
       "      <td>108964</td>\n",
       "      <td>1</td>\n",
       "      <td>1.118323</td>\n",
       "      <td>39</td>\n",
       "      <td>2</td>\n",
       "      <td>1.842995</td>\n",
       "      <td>2483.0</td>\n",
       "      <td>11</td>\n",
       "      <td>0</td>\n",
       "      <td>1</td>\n",
       "      <td>1</td>\n",
       "      <td>2.0</td>\n",
       "    </tr>\n",
       "    <tr>\n",
       "      <th>128499</th>\n",
       "      <td>131594</td>\n",
       "      <td>0</td>\n",
       "      <td>0.074850</td>\n",
       "      <td>28</td>\n",
       "      <td>2</td>\n",
       "      <td>1.821769</td>\n",
       "      <td>734.0</td>\n",
       "      <td>4</td>\n",
       "      <td>0</td>\n",
       "      <td>1</td>\n",
       "      <td>1</td>\n",
       "      <td>0.0</td>\n",
       "    </tr>\n",
       "    <tr>\n",
       "      <th>130435</th>\n",
       "      <td>133580</td>\n",
       "      <td>1</td>\n",
       "      <td>0.894240</td>\n",
       "      <td>48</td>\n",
       "      <td>2</td>\n",
       "      <td>1.886870</td>\n",
       "      <td>2200.0</td>\n",
       "      <td>11</td>\n",
       "      <td>1</td>\n",
       "      <td>1</td>\n",
       "      <td>0</td>\n",
       "      <td>0.0</td>\n",
       "    </tr>\n",
       "    <tr>\n",
       "      <th>5892</th>\n",
       "      <td>6036</td>\n",
       "      <td>0</td>\n",
       "      <td>0.585353</td>\n",
       "      <td>70</td>\n",
       "      <td>0</td>\n",
       "      <td>1.840672</td>\n",
       "      <td>4700.0</td>\n",
       "      <td>32</td>\n",
       "      <td>0</td>\n",
       "      <td>7</td>\n",
       "      <td>0</td>\n",
       "      <td>0.0</td>\n",
       "    </tr>\n",
       "    <tr>\n",
       "      <th>14431</th>\n",
       "      <td>14790</td>\n",
       "      <td>0</td>\n",
       "      <td>0.160269</td>\n",
       "      <td>50</td>\n",
       "      <td>0</td>\n",
       "      <td>1.861943</td>\n",
       "      <td>16666.0</td>\n",
       "      <td>28</td>\n",
       "      <td>0</td>\n",
       "      <td>16</td>\n",
       "      <td>0</td>\n",
       "      <td>3.0</td>\n",
       "    </tr>\n",
       "    <tr>\n",
       "      <th>36367</th>\n",
       "      <td>37292</td>\n",
       "      <td>1</td>\n",
       "      <td>0.950914</td>\n",
       "      <td>59</td>\n",
       "      <td>0</td>\n",
       "      <td>1.899128</td>\n",
       "      <td>802.0</td>\n",
       "      <td>8</td>\n",
       "      <td>2</td>\n",
       "      <td>1</td>\n",
       "      <td>3</td>\n",
       "      <td>2.0</td>\n",
       "    </tr>\n",
       "    <tr>\n",
       "      <th>68873</th>\n",
       "      <td>70572</td>\n",
       "      <td>1</td>\n",
       "      <td>0.033304</td>\n",
       "      <td>51</td>\n",
       "      <td>0</td>\n",
       "      <td>1.828187</td>\n",
       "      <td>6250.0</td>\n",
       "      <td>26</td>\n",
       "      <td>0</td>\n",
       "      <td>7</td>\n",
       "      <td>0</td>\n",
       "      <td>3.0</td>\n",
       "    </tr>\n",
       "    <tr>\n",
       "      <th>104415</th>\n",
       "      <td>106919</td>\n",
       "      <td>1</td>\n",
       "      <td>0.228795</td>\n",
       "      <td>39</td>\n",
       "      <td>0</td>\n",
       "      <td>1.808530</td>\n",
       "      <td>5462.0</td>\n",
       "      <td>25</td>\n",
       "      <td>0</td>\n",
       "      <td>12</td>\n",
       "      <td>0</td>\n",
       "      <td>2.0</td>\n",
       "    </tr>\n",
       "  </tbody>\n",
       "</table>\n",
       "</div>"
      ],
      "text/plain": [
       "        Unnamed: 0  SeriousDlqin2yrs  RevolvingUtilizationOfUnsecuredLines  \\\n",
       "2357          2421                 1                              1.305389   \n",
       "8535          8746                 1                              1.305648   \n",
       "17787        18228                 0                              1.340824   \n",
       "19903        20411                 1                              1.323274   \n",
       "25634        26277                 1                              1.311844   \n",
       "28289        28987                 1                              1.325581   \n",
       "29270        29993                 0                              1.315860   \n",
       "34823        35711                 0                              1.347305   \n",
       "36785        37719                 0                              1.324168   \n",
       "39632        40626                 1                              1.340733   \n",
       "41099        42126                 0                              1.302789   \n",
       "54834        56185                 0                           2231.000000   \n",
       "70015        71745                 1                              1.303393   \n",
       "72978        74766                 0                              1.341177   \n",
       "74634        76458                 0                              1.333333   \n",
       "78328        80222                 0                              1.287854   \n",
       "85316        87378                 1                              1.302829   \n",
       "90219        92397                 0                              1.319361   \n",
       "93205        95457                 0                              1.294705   \n",
       "96310        98636                 1                              1.295352   \n",
       "97997       100349                 1                              1.313373   \n",
       "103298      105776                 1                              1.311353   \n",
       "115056      117822                 0                              1.287425   \n",
       "118459      121321                 1                              1.314607   \n",
       "118586      121452                 1                              1.301199   \n",
       "122173      125127                 0                              1.350970   \n",
       "123557      126544                 1                              1.330677   \n",
       "123960      126954                 1                              1.334721   \n",
       "137275      140575                 1                              1.285544   \n",
       "17346        17774                 1                              0.000000   \n",
       "106405      108964                 1                              1.118323   \n",
       "128499      131594                 0                              0.074850   \n",
       "130435      133580                 1                              0.894240   \n",
       "5892          6036                 0                              0.585353   \n",
       "14431        14790                 0                              0.160269   \n",
       "36367        37292                 1                              0.950914   \n",
       "68873        70572                 1                              0.033304   \n",
       "104415      106919                 1                              0.228795   \n",
       "\n",
       "        age  NumberOfTime30-59DaysPastDueNotWorse   DebtRatio  MonthlyIncome  \\\n",
       "2357     63                                     1    0.182891         1355.0   \n",
       "8535     32                                     1  713.000000            NaN   \n",
       "17787    62                                     3    0.613301         5833.0   \n",
       "19903    41                                     1    0.329169         1600.0   \n",
       "25634    40                                     1    0.625335         4483.0   \n",
       "28289    28                                     0    0.063764         4500.0   \n",
       "29270    51                                     3    0.253000         6916.0   \n",
       "34823    36                                     1  116.000000            NaN   \n",
       "36785    36                                     2    0.110937         5750.0   \n",
       "39632    42                                     2    0.130638         4500.0   \n",
       "41099    47                                     1    0.087565         2500.0   \n",
       "54834    51                                     2    1.805549         4000.0   \n",
       "70015    34                                     2    0.138024         2600.0   \n",
       "72978    56                                     2    0.494066        11880.0   \n",
       "74634    27                                     1  751.000000            NaN   \n",
       "78328    62                                     1    0.062055         2384.0   \n",
       "85316    42                                     2    0.146476         6000.0   \n",
       "90219    55                                     0    0.007750         3999.0   \n",
       "93205    44                                     0    0.009192         4133.0   \n",
       "96310    28                                     5    0.285211         4259.0   \n",
       "97997    32                                     1    0.005065         3750.0   \n",
       "103298   62                                     1    0.214431         4905.0   \n",
       "115056   40                                     1    0.075517         3720.0   \n",
       "118459   44                                     4    0.196998         6461.0   \n",
       "118586   30                                     1    0.424128         4500.0   \n",
       "122173   42                                     4    0.361006         4769.0   \n",
       "123557   40                                     1    0.106943         7517.0   \n",
       "123960   39                                     1    0.091132         2446.0   \n",
       "137275   30                                     3    0.155304         6277.0   \n",
       "17346    47                                     1    1.813375         4500.0   \n",
       "106405   39                                     2    1.842995         2483.0   \n",
       "128499   28                                     2    1.821769          734.0   \n",
       "130435   48                                     2    1.886870         2200.0   \n",
       "5892     70                                     0    1.840672         4700.0   \n",
       "14431    50                                     0    1.861943        16666.0   \n",
       "36367    59                                     0    1.899128          802.0   \n",
       "68873    51                                     0    1.828187         6250.0   \n",
       "104415   39                                     0    1.808530         5462.0   \n",
       "\n",
       "        NumberOfOpenCreditLinesAndLoans  NumberOfTimes90DaysLate  \\\n",
       "2357                                  3                        0   \n",
       "8535                                  3                        0   \n",
       "17787                                 6                        2   \n",
       "19903                                 8                        0   \n",
       "25634                                 9                        0   \n",
       "28289                                 2                        1   \n",
       "29270                                 1                        2   \n",
       "34823                                 1                        0   \n",
       "36785                                 7                        0   \n",
       "39632                                 4                        2   \n",
       "41099                                 3                        1   \n",
       "54834                                12                        0   \n",
       "70015                                 5                        1   \n",
       "72978                                25                        0   \n",
       "74634                                 8                        0   \n",
       "78328                                 2                        0   \n",
       "85316                                 4                        2   \n",
       "90219                                 2                        1   \n",
       "93205                                 1                        1   \n",
       "96310                                12                        0   \n",
       "97997                                 3                        1   \n",
       "103298                                3                        3   \n",
       "115056                                2                        3   \n",
       "118459                                5                        6   \n",
       "118586                                9                        1   \n",
       "122173                               10                        0   \n",
       "123557                                2                        3   \n",
       "123960                                7                        0   \n",
       "137275                                9                        0   \n",
       "17346                                13                        0   \n",
       "106405                               11                        0   \n",
       "128499                                4                        0   \n",
       "130435                               11                        1   \n",
       "5892                                 32                        0   \n",
       "14431                                28                        0   \n",
       "36367                                 8                        2   \n",
       "68873                                26                        0   \n",
       "104415                               25                        0   \n",
       "\n",
       "        NumberRealEstateLoansOrLines  NumberOfTime60-89DaysPastDueNotWorse  \\\n",
       "2357                               0                                     1   \n",
       "8535                               0                                     0   \n",
       "17787                              1                                     0   \n",
       "19903                              0                                     2   \n",
       "25634                              2                                     2   \n",
       "28289                              0                                     2   \n",
       "29270                              1                                     0   \n",
       "34823                              0                                     0   \n",
       "36785                              1                                     1   \n",
       "39632                              0                                     0   \n",
       "41099                              0                                     0   \n",
       "54834                              5                                     0   \n",
       "70015                              0                                     0   \n",
       "72978                              3                                     0   \n",
       "74634                              0                                     0   \n",
       "78328                              0                                     2   \n",
       "85316                              0                                     0   \n",
       "90219                              0                                     2   \n",
       "93205                              0                                     3   \n",
       "96310                              0                                     2   \n",
       "97997                              0                                     0   \n",
       "103298                             0                                     0   \n",
       "115056                             0                                     0   \n",
       "118459                             0                                     0   \n",
       "118586                             1                                     0   \n",
       "122173                             0                                     2   \n",
       "123557                             0                                     0   \n",
       "123960                             0                                     1   \n",
       "137275                             0                                     1   \n",
       "17346                              4                                     1   \n",
       "106405                             1                                     1   \n",
       "128499                             1                                     1   \n",
       "130435                             1                                     0   \n",
       "5892                               7                                     0   \n",
       "14431                             16                                     0   \n",
       "36367                              1                                     3   \n",
       "68873                              7                                     0   \n",
       "104415                            12                                     0   \n",
       "\n",
       "        NumberOfDependents  \n",
       "2357                   0.0  \n",
       "8535                   1.0  \n",
       "17787                  0.0  \n",
       "19903                  2.0  \n",
       "25634                  2.0  \n",
       "28289                  0.0  \n",
       "29270                  0.0  \n",
       "34823                  0.0  \n",
       "36785                  0.0  \n",
       "39632                  1.0  \n",
       "41099                  1.0  \n",
       "54834                  0.0  \n",
       "70015                  1.0  \n",
       "72978                  2.0  \n",
       "74634                  0.0  \n",
       "78328                  0.0  \n",
       "85316                  5.0  \n",
       "90219                  2.0  \n",
       "93205                  1.0  \n",
       "96310                  2.0  \n",
       "97997                  2.0  \n",
       "103298                 0.0  \n",
       "115056                 1.0  \n",
       "118459                 2.0  \n",
       "118586                 2.0  \n",
       "122173                 0.0  \n",
       "123557                 3.0  \n",
       "123960                 3.0  \n",
       "137275                 1.0  \n",
       "17346                  3.0  \n",
       "106405                 2.0  \n",
       "128499                 0.0  \n",
       "130435                 0.0  \n",
       "5892                   0.0  \n",
       "14431                  3.0  \n",
       "36367                  2.0  \n",
       "68873                  3.0  \n",
       "104415                 2.0  "
      ]
     },
     "execution_count": 26,
     "metadata": {},
     "output_type": "execute_result"
    }
   ],
   "source": [
    "df.loc[Outliers_to_drop]"
   ]
  },
  {
   "cell_type": "markdown",
   "id": "40063ce4",
   "metadata": {},
   "source": [
    "We detected 3527 outliers in the training set, which represents 2.53% of our training data. We will drop these outliers.\n",
    "\n"
   ]
  },
  {
   "cell_type": "code",
   "execution_count": 27,
   "id": "a3e94c0f",
   "metadata": {},
   "outputs": [],
   "source": [
    "df = df.drop(Outliers_to_drop, axis = 0).reset_index(drop=True)"
   ]
  },
  {
   "cell_type": "code",
   "execution_count": 87,
   "id": "fa4186f6",
   "metadata": {},
   "outputs": [],
   "source": [
    "df_len = len(df)"
   ]
  },
  {
   "cell_type": "code",
   "execution_count": 28,
   "id": "68bbdc8a",
   "metadata": {},
   "outputs": [],
   "source": [
    "df = df.rename(columns={'Unnamed: 0': 'Unknown',\n",
    "                                  'SeriousDlqin2yrs': 'Target',\n",
    "                                  'RevolvingUtilizationOfUnsecuredLines': 'UnsecLines',\n",
    "                                  'NumberOfTime30-59DaysPastDueNotWorse': 'Late3059',\n",
    "                                  'DebtRatio': 'DebtRatio',\n",
    "                                  'MonthlyIncome': 'MonthlyIncome',\n",
    "                                  'NumberOfOpenCreditLinesAndLoans': 'OpenCredit',\n",
    "                                  'NumberOfTimes90DaysLate': 'Late90',\n",
    "                                  'NumberRealEstateLoansOrLines': 'PropLines',\n",
    "                                  'NumberOfTime60-89DaysPastDueNotWorse': 'Late6089',\n",
    "                                  'NumberOfDependents': 'Deps'})"
   ]
  },
  {
   "cell_type": "markdown",
   "id": "cc2e25c1",
   "metadata": {},
   "source": [
    "# Exploring variables\n"
   ]
  },
  {
   "cell_type": "code",
   "execution_count": 29,
   "id": "8acf0801",
   "metadata": {},
   "outputs": [
    {
     "data": {
      "image/png": "[encoded data removed]",
      "text/plain": [
       "<Figure size 432x288 with 2 Axes>"
      ]
     },
     "metadata": {},
     "output_type": "display_data"
    }
   ],
   "source": [
    "# Correlation matrix\n",
    "g = sns.heatmap(df.corr(),annot=False, fmt = \".2f\", cmap = \"coolwarm\")"
   ]
  },
  {
   "cell_type": "markdown",
   "id": "02fd18a1",
   "metadata": {},
   "source": []
  },
  {
   "cell_type": "markdown",
   "id": "5ed726ad",
   "metadata": {},
   "source": [
    "# Exploring UnsecLines\n"
   ]
  },
  {
   "cell_type": "code",
   "execution_count": 31,
   "id": "9e1146a5",
   "metadata": {},
   "outputs": [
    {
     "data": {
      "text/plain": [
       "count    146427.000000\n",
       "mean          5.919345\n",
       "std         249.379118\n",
       "min           0.000000\n",
       "25%           0.028862\n",
       "50%           0.146163\n",
       "75%           0.530414\n",
       "max       50708.000000\n",
       "Name: UnsecLines, dtype: float64"
      ]
     },
     "execution_count": 31,
     "metadata": {},
     "output_type": "execute_result"
    }
   ],
   "source": [
    "df.UnsecLines.describe()\n"
   ]
  },
  {
   "cell_type": "code",
   "execution_count": 32,
   "id": "43ee8a4b",
   "metadata": {},
   "outputs": [],
   "source": [
    "df.UnsecLines = pd.qcut(df.UnsecLines.values, 5).codes\n"
   ]
  },
  {
   "cell_type": "code",
   "execution_count": 37,
   "id": "ddce4c5a",
   "metadata": {},
   "outputs": [
    {
     "name": "stderr",
     "output_type": "stream",
     "text": [
      "C:\\Users\\DELL\\anaconda3\\lib\\site-packages\\seaborn\\categorical.py:3717: UserWarning: The `factorplot` function has been renamed to `catplot`. The original name will be removed in a future release. Please update your code. Note that the default `kind` in `factorplot` (`'point'`) has changed `'strip'` in `catplot`.\n",
      "  warnings.warn(msg)\n"
     ]
    },
    {
     "data": {
      "image/png": "[encoded data removed]",
      "text/plain": [
       "<Figure size 432x432 with 1 Axes>"
      ]
     },
     "metadata": {},
     "output_type": "display_data"
    }
   ],
   "source": [
    "# Explore UnsecLines feature vs Target\n",
    "g  = sns.factorplot(x=\"UnsecLines\",y=\"Target\",data=df,kind=\"bar\", height = 6 , palette = \"muted\")\n",
    "g.despine(left=True)\n",
    "g = g.set_ylabels(\"Target probability\")"
   ]
  },
  {
   "cell_type": "markdown",
   "id": "f012d4c9",
   "metadata": {},
   "source": [
    "We can that there is an almost exponential relationship between this variable and our target.\n"
   ]
  },
  {
   "cell_type": "markdown",
   "id": "02ebbb98",
   "metadata": {},
   "source": [
    "# Exploring Age"
   ]
  },
  {
   "cell_type": "code",
   "execution_count": 42,
   "id": "94776de1",
   "metadata": {},
   "outputs": [
    {
     "name": "stderr",
     "output_type": "stream",
     "text": [
      "C:\\Users\\DELL\\anaconda3\\lib\\site-packages\\seaborn\\distributions.py:2619: FutureWarning: `distplot` is a deprecated function and will be removed in a future version. Please adapt your code to use either `displot` (a figure-level function with similar flexibility) or `histplot` (an axes-level function for histograms).\n",
      "  warnings.warn(msg, FutureWarning)\n",
      "C:\\Users\\DELL\\anaconda3\\lib\\site-packages\\seaborn\\distributions.py:2619: FutureWarning: `distplot` is a deprecated function and will be removed in a future version. Please adapt your code to use either `displot` (a figure-level function with similar flexibility) or `histplot` (an axes-level function for histograms).\n",
      "  warnings.warn(msg, FutureWarning)\n"
     ]
    },
    {
     "data": {
      "image/png": "[encoded data removed]",
      "text/plain": [
       "<Figure size 432x216 with 2 Axes>"
      ]
     },
     "metadata": {},
     "output_type": "display_data"
    }
   ],
   "source": [
    "# Explore Age vs Survived\n",
    "g = sns.FacetGrid(df, col='Target')\n",
    "g = g.map(sns.distplot, \"age\")"
   ]
  },
  {
   "cell_type": "code",
   "execution_count": 44,
   "id": "3380ae73",
   "metadata": {},
   "outputs": [],
   "source": [
    "df.age = pd.qcut(df.age.values, 5).codes\n"
   ]
  },
  {
   "cell_type": "code",
   "execution_count": 45,
   "id": "4c916033",
   "metadata": {},
   "outputs": [
    {
     "name": "stderr",
     "output_type": "stream",
     "text": [
      "C:\\Users\\DELL\\anaconda3\\lib\\site-packages\\seaborn\\categorical.py:3717: UserWarning: The `factorplot` function has been renamed to `catplot`. The original name will be removed in a future release. Please update your code. Note that the default `kind` in `factorplot` (`'point'`) has changed `'strip'` in `catplot`.\n",
      "  warnings.warn(msg)\n",
      "C:\\Users\\DELL\\anaconda3\\lib\\site-packages\\seaborn\\categorical.py:3723: UserWarning: The `size` parameter has been renamed to `height`; please update your code.\n",
      "  warnings.warn(msg, UserWarning)\n"
     ]
    },
    {
     "data": {
      "image/png": "[encoded data removed]",
      "text/plain": [
       "<Figure size 432x432 with 1 Axes>"
      ]
     },
     "metadata": {},
     "output_type": "display_data"
    }
   ],
   "source": [
    "# Explore age feature vs Target\n",
    "g  = sns.factorplot(x=\"age\",y=\"Target\",data=df,kind=\"bar\", size = 6 , palette = \"muted\")\n",
    "g.despine(left=True)\n",
    "g = g.set_ylabels(\"Target probability\")"
   ]
  },
  {
   "cell_type": "markdown",
   "id": "1d087d06",
   "metadata": {},
   "source": [
    "Chúng ta có thể thấy rằng tuổi tác có mối quan hệ nghịch đảo với rủi ro vỡ nợ"
   ]
  },
  {
   "cell_type": "markdown",
   "id": "e8c0dfac",
   "metadata": {},
   "source": [
    "# Exploring Late3059"
   ]
  },
  {
   "cell_type": "code",
   "execution_count": 46,
   "id": "ee3dbaf5",
   "metadata": {},
   "outputs": [
    {
     "name": "stderr",
     "output_type": "stream",
     "text": [
      "C:\\Users\\DELL\\anaconda3\\lib\\site-packages\\seaborn\\categorical.py:3717: UserWarning: The `factorplot` function has been renamed to `catplot`. The original name will be removed in a future release. Please update your code. Note that the default `kind` in `factorplot` (`'point'`) has changed `'strip'` in `catplot`.\n",
      "  warnings.warn(msg)\n",
      "C:\\Users\\DELL\\anaconda3\\lib\\site-packages\\seaborn\\categorical.py:3723: UserWarning: The `size` parameter has been renamed to `height`; please update your code.\n",
      "  warnings.warn(msg, UserWarning)\n"
     ]
    },
    {
     "data": {
      "image/png": "[encoded data removed]",
      "text/plain": [
       "<Figure size 432x432 with 1 Axes>"
      ]
     },
     "metadata": {},
     "output_type": "display_data"
    }
   ],
   "source": [
    "# Explore UnsecLines feature vs Target\n",
    "g  = sns.factorplot(x=\"Late3059\",y=\"Target\",data=df,kind=\"bar\", size = 6 , \n",
    "palette = \"muted\")\n",
    "g.despine(left=True)\n",
    "g = g.set_ylabels(\"Target probability\")"
   ]
  },
  {
   "cell_type": "code",
   "execution_count": 47,
   "id": "af7f6939",
   "metadata": {},
   "outputs": [
    {
     "name": "stderr",
     "output_type": "stream",
     "text": [
      "C:\\Users\\DELL\\AppData\\Local\\Temp\\ipykernel_4704\\3425361083.py:3: SettingWithCopyWarning: \n",
      "A value is trying to be set on a copy of a slice from a DataFrame\n",
      "\n",
      "See the caveats in the documentation: https://pandas.pydata.org/pandas-docs/stable/user_guide/indexing.html#returning-a-view-versus-a-copy\n",
      "  df.Late3059[i] = 6\n"
     ]
    }
   ],
   "source": [
    "\n",
    "for i in range(len(df)):\n",
    "    if df.Late3059[i] >= 6:\n",
    "        df.Late3059[i] = 6"
   ]
  },
  {
   "cell_type": "code",
   "execution_count": 48,
   "id": "42d75426",
   "metadata": {},
   "outputs": [
    {
     "name": "stderr",
     "output_type": "stream",
     "text": [
      "C:\\Users\\DELL\\anaconda3\\lib\\site-packages\\seaborn\\categorical.py:3717: UserWarning: The `factorplot` function has been renamed to `catplot`. The original name will be removed in a future release. Please update your code. Note that the default `kind` in `factorplot` (`'point'`) has changed `'strip'` in `catplot`.\n",
      "  warnings.warn(msg)\n",
      "C:\\Users\\DELL\\anaconda3\\lib\\site-packages\\seaborn\\categorical.py:3723: UserWarning: The `size` parameter has been renamed to `height`; please update your code.\n",
      "  warnings.warn(msg, UserWarning)\n"
     ]
    },
    {
     "data": {
      "image/png": "[encoded data removed]",
      "text/plain": [
       "<Figure size 432x432 with 1 Axes>"
      ]
     },
     "metadata": {},
     "output_type": "display_data"
    }
   ],
   "source": [
    "# Explore UnsecLines feature vs Target\n",
    "g  = sns.factorplot(x=\"Late3059\",y=\"Target\",data=df,kind=\"bar\", size = 6 , \n",
    "palette = \"muted\")\n",
    "g.despine(left=True)\n",
    "g = g.set_ylabels(\"Target probability\")"
   ]
  },
  {
   "cell_type": "markdown",
   "id": "b112ce36",
   "metadata": {},
   "source": []
  },
  {
   "cell_type": "markdown",
   "id": "b8a91902",
   "metadata": {},
   "source": [
    "# Exploring DebtRatio\n"
   ]
  },
  {
   "cell_type": "code",
   "execution_count": 49,
   "id": "6dc95ab8",
   "metadata": {},
   "outputs": [
    {
     "name": "stderr",
     "output_type": "stream",
     "text": [
      "C:\\Users\\DELL\\anaconda3\\lib\\site-packages\\seaborn\\distributions.py:2619: FutureWarning: `distplot` is a deprecated function and will be removed in a future version. Please adapt your code to use either `displot` (a figure-level function with similar flexibility) or `histplot` (an axes-level function for histograms).\n",
      "  warnings.warn(msg, FutureWarning)\n",
      "C:\\Users\\DELL\\anaconda3\\lib\\site-packages\\seaborn\\distributions.py:2619: FutureWarning: `distplot` is a deprecated function and will be removed in a future version. Please adapt your code to use either `displot` (a figure-level function with similar flexibility) or `histplot` (an axes-level function for histograms).\n",
      "  warnings.warn(msg, FutureWarning)\n"
     ]
    },
    {
     "data": {
      "image/png": "[encoded data removed]",
      "text/plain": [
       "<Figure size 432x216 with 2 Axes>"
      ]
     },
     "metadata": {},
     "output_type": "display_data"
    }
   ],
   "source": [
    "# Explore Age vs Survived\n",
    "g = sns.FacetGrid(df, col='Target')\n",
    "g = g.map(sns.distplot, \"DebtRatio\")"
   ]
  },
  {
   "cell_type": "code",
   "execution_count": 50,
   "id": "ce9d301f",
   "metadata": {},
   "outputs": [],
   "source": [
    "df.DebtRatio = pd.qcut(df.DebtRatio.values, 5).codes"
   ]
  },
  {
   "cell_type": "code",
   "execution_count": 51,
   "id": "b568004c",
   "metadata": {},
   "outputs": [
    {
     "name": "stderr",
     "output_type": "stream",
     "text": [
      "C:\\Users\\DELL\\anaconda3\\lib\\site-packages\\seaborn\\categorical.py:3717: UserWarning: The `factorplot` function has been renamed to `catplot`. The original name will be removed in a future release. Please update your code. Note that the default `kind` in `factorplot` (`'point'`) has changed `'strip'` in `catplot`.\n",
      "  warnings.warn(msg)\n",
      "C:\\Users\\DELL\\anaconda3\\lib\\site-packages\\seaborn\\categorical.py:3723: UserWarning: The `size` parameter has been renamed to `height`; please update your code.\n",
      "  warnings.warn(msg, UserWarning)\n"
     ]
    },
    {
     "data": {
      "image/png": "[encoded data removed]",
      "text/plain": [
       "<Figure size 432x432 with 1 Axes>"
      ]
     },
     "metadata": {},
     "output_type": "display_data"
    }
   ],
   "source": [
    "# Explore DebtRatio feature quantiles vs Target\n",
    "g  = sns.factorplot(x=\"DebtRatio\",y=\"Target\",data=df,kind=\"bar\", size = 6 , \n",
    "palette = \"muted\")\n",
    "g.despine(left=True)\n",
    "g = g.set_ylabels(\"Target probability\")"
   ]
  },
  {
   "cell_type": "markdown",
   "id": "4fbf37cf",
   "metadata": {},
   "source": [
    "# Exploring MonthlyIncome"
   ]
  },
  {
   "cell_type": "code",
   "execution_count": 52,
   "id": "1ff90c38",
   "metadata": {},
   "outputs": [
    {
     "data": {
      "text/plain": [
       "28245"
      ]
     },
     "execution_count": 52,
     "metadata": {},
     "output_type": "execute_result"
    }
   ],
   "source": [
    "df.MonthlyIncome.isnull().sum()"
   ]
  },
  {
   "cell_type": "code",
   "execution_count": 53,
   "id": "cea54ff2",
   "metadata": {},
   "outputs": [
    {
     "data": {
      "image/png": "[encoded data removed]",
      "text/plain": [
       "<Figure size 432x288 with 2 Axes>"
      ]
     },
     "metadata": {},
     "output_type": "display_data"
    }
   ],
   "source": [
    "g = sns.heatmap(df[[\"MonthlyIncome\",\"Unknown\",\"UnsecLines\",\"OpenCredit\",\"PropLines\"]].corr(),cmap=\"BrBG\",annot=True)"
   ]
  },
  {
   "cell_type": "code",
   "execution_count": 54,
   "id": "0dd05fc5",
   "metadata": {},
   "outputs": [
    {
     "data": {
      "image/png": "[encoded data removed]",
      "text/plain": [
       "<Figure size 432x288 with 2 Axes>"
      ]
     },
     "metadata": {},
     "output_type": "display_data"
    }
   ],
   "source": [
    "g = sns.heatmap(df[[\"MonthlyIncome\",\"age\",\"DebtRatio\",\"Deps\",\"Target\"]].corr(),cmap=\"BrBG\",annot=True)"
   ]
  },
  {
   "cell_type": "code",
   "execution_count": 55,
   "id": "f316fd7f",
   "metadata": {},
   "outputs": [
    {
     "data": {
      "image/png": "[encoded data removed]",
      "text/plain": [
       "<Figure size 432x288 with 2 Axes>"
      ]
     },
     "metadata": {},
     "output_type": "display_data"
    }
   ],
   "source": [
    "g = sns.heatmap(df[[\"MonthlyIncome\",\"Late3059\",\"Late6089\",\"Late90\"]].corr(),cmap=\"BrBG\",annot=True)"
   ]
  },
  {
   "cell_type": "markdown",
   "id": "64a02336",
   "metadata": {},
   "source": []
  },
  {
   "cell_type": "code",
   "execution_count": 56,
   "id": "9b74b5cd",
   "metadata": {},
   "outputs": [
    {
     "data": {
      "text/plain": [
       "5416.0"
      ]
     },
     "execution_count": 56,
     "metadata": {},
     "output_type": "execute_result"
    }
   ],
   "source": [
    "df.MonthlyIncome.median()"
   ]
  },
  {
   "cell_type": "code",
   "execution_count": 57,
   "id": "c348a3ae",
   "metadata": {},
   "outputs": [],
   "source": [
    "df.MonthlyIncome = df.MonthlyIncome.fillna(df.MonthlyIncome.median())"
   ]
  },
  {
   "cell_type": "code",
   "execution_count": 58,
   "id": "5da64572",
   "metadata": {},
   "outputs": [],
   "source": [
    "df.MonthlyIncome = pd.qcut(df.MonthlyIncome.values, 5).codes"
   ]
  },
  {
   "cell_type": "code",
   "execution_count": 59,
   "id": "94042618",
   "metadata": {},
   "outputs": [
    {
     "name": "stderr",
     "output_type": "stream",
     "text": [
      "C:\\Users\\DELL\\anaconda3\\lib\\site-packages\\seaborn\\categorical.py:3717: UserWarning: The `factorplot` function has been renamed to `catplot`. The original name will be removed in a future release. Please update your code. Note that the default `kind` in `factorplot` (`'point'`) has changed `'strip'` in `catplot`.\n",
      "  warnings.warn(msg)\n",
      "C:\\Users\\DELL\\anaconda3\\lib\\site-packages\\seaborn\\categorical.py:3723: UserWarning: The `size` parameter has been renamed to `height`; please update your code.\n",
      "  warnings.warn(msg, UserWarning)\n"
     ]
    },
    {
     "data": {
      "image/png": "[encoded data removed]",
      "text/plain": [
       "<Figure size 432x432 with 1 Axes>"
      ]
     },
     "metadata": {},
     "output_type": "display_data"
    }
   ],
   "source": [
    "# Explore DebtRatio feature quantiles vs Target\n",
    "g  = sns.factorplot(x=\"MonthlyIncome\",y=\"Target\",data=df,kind=\"bar\", size = 6 , \n",
    "palette = \"muted\")\n",
    "g.despine(left=True)\n",
    "g = g.set_ylabels(\"Target probability\")"
   ]
  },
  {
   "cell_type": "markdown",
   "id": "6c3969ab",
   "metadata": {},
   "source": [
    "# Exploring OpenCredit"
   ]
  },
  {
   "cell_type": "code",
   "execution_count": 60,
   "id": "663db425",
   "metadata": {},
   "outputs": [
    {
     "data": {
      "text/plain": [
       "count    146427.00000\n",
       "mean          8.46038\n",
       "std           5.08516\n",
       "min           0.00000\n",
       "25%           5.00000\n",
       "50%           8.00000\n",
       "75%          11.00000\n",
       "max          57.00000\n",
       "Name: OpenCredit, dtype: float64"
      ]
     },
     "execution_count": 60,
     "metadata": {},
     "output_type": "execute_result"
    }
   ],
   "source": [
    "df.OpenCredit.describe()"
   ]
  },
  {
   "cell_type": "code",
   "execution_count": 61,
   "id": "a1715553",
   "metadata": {},
   "outputs": [],
   "source": [
    "df.OpenCredit = pd.qcut(df.OpenCredit.values, 5).codes"
   ]
  },
  {
   "cell_type": "code",
   "execution_count": 62,
   "id": "b0e049fb",
   "metadata": {},
   "outputs": [
    {
     "name": "stderr",
     "output_type": "stream",
     "text": [
      "C:\\Users\\DELL\\anaconda3\\lib\\site-packages\\seaborn\\categorical.py:3717: UserWarning: The `factorplot` function has been renamed to `catplot`. The original name will be removed in a future release. Please update your code. Note that the default `kind` in `factorplot` (`'point'`) has changed `'strip'` in `catplot`.\n",
      "  warnings.warn(msg)\n",
      "C:\\Users\\DELL\\anaconda3\\lib\\site-packages\\seaborn\\categorical.py:3723: UserWarning: The `size` parameter has been renamed to `height`; please update your code.\n",
      "  warnings.warn(msg, UserWarning)\n"
     ]
    },
    {
     "data": {
      "image/png": "[encoded data removed]",
      "text/plain": [
       "<Figure size 432x432 with 1 Axes>"
      ]
     },
     "metadata": {},
     "output_type": "display_data"
    }
   ],
   "source": [
    "# Explore DebtRatio feature quantiles vs Target\n",
    "g  = sns.factorplot(x=\"OpenCredit\",y=\"Target\",data=df,kind=\"bar\", size = 6 , \n",
    "palette = \"muted\")\n",
    "g.despine(left=True)\n",
    "g = g.set_ylabels(\"Target probability\")"
   ]
  },
  {
   "cell_type": "markdown",
   "id": "a09befaf",
   "metadata": {},
   "source": [
    "# Exploring Late90"
   ]
  },
  {
   "cell_type": "code",
   "execution_count": 63,
   "id": "7bb137f4",
   "metadata": {},
   "outputs": [
    {
     "data": {
      "text/plain": [
       "count    146427.000000\n",
       "mean          0.059805\n",
       "std           0.378229\n",
       "min           0.000000\n",
       "25%           0.000000\n",
       "50%           0.000000\n",
       "75%           0.000000\n",
       "max          17.000000\n",
       "Name: Late90, dtype: float64"
      ]
     },
     "execution_count": 63,
     "metadata": {},
     "output_type": "execute_result"
    }
   ],
   "source": [
    "df.Late90.describe()"
   ]
  },
  {
   "cell_type": "code",
   "execution_count": 64,
   "id": "119ba286",
   "metadata": {},
   "outputs": [
    {
     "name": "stderr",
     "output_type": "stream",
     "text": [
      "C:\\Users\\DELL\\anaconda3\\lib\\site-packages\\seaborn\\categorical.py:3717: UserWarning: The `factorplot` function has been renamed to `catplot`. The original name will be removed in a future release. Please update your code. Note that the default `kind` in `factorplot` (`'point'`) has changed `'strip'` in `catplot`.\n",
      "  warnings.warn(msg)\n",
      "C:\\Users\\DELL\\anaconda3\\lib\\site-packages\\seaborn\\categorical.py:3723: UserWarning: The `size` parameter has been renamed to `height`; please update your code.\n",
      "  warnings.warn(msg, UserWarning)\n"
     ]
    },
    {
     "data": {
      "image/png": "[encoded data removed]",
      "text/plain": [
       "<Figure size 432x432 with 1 Axes>"
      ]
     },
     "metadata": {},
     "output_type": "display_data"
    }
   ],
   "source": [
    "# Explore DebtRatio feature quantiles vs Target\n",
    "g  = sns.factorplot(x=\"Late90\",y=\"Target\",data=df,kind=\"bar\", size = 6 , \n",
    "palette = \"muted\")\n",
    "g.despine(left=True)\n",
    "g = g.set_ylabels(\"Target probability\")"
   ]
  },
  {
   "cell_type": "code",
   "execution_count": 66,
   "id": "8d34d375",
   "metadata": {},
   "outputs": [
    {
     "name": "stderr",
     "output_type": "stream",
     "text": [
      "C:\\Users\\DELL\\AppData\\Local\\Temp\\ipykernel_4704\\4284142448.py:3: SettingWithCopyWarning: \n",
      "A value is trying to be set on a copy of a slice from a DataFrame\n",
      "\n",
      "See the caveats in the documentation: https://pandas.pydata.org/pandas-docs/stable/user_guide/indexing.html#returning-a-view-versus-a-copy\n",
      "  df.Late90[i] = 5\n"
     ]
    }
   ],
   "source": [
    "for i in range(len(df)):\n",
    "    if df.Late90[i] >= 5:\n",
    "        df.Late90[i] = 5"
   ]
  },
  {
   "cell_type": "code",
   "execution_count": 67,
   "id": "ef99fee8",
   "metadata": {},
   "outputs": [
    {
     "name": "stderr",
     "output_type": "stream",
     "text": [
      "C:\\Users\\DELL\\anaconda3\\lib\\site-packages\\seaborn\\categorical.py:3717: UserWarning: The `factorplot` function has been renamed to `catplot`. The original name will be removed in a future release. Please update your code. Note that the default `kind` in `factorplot` (`'point'`) has changed `'strip'` in `catplot`.\n",
      "  warnings.warn(msg)\n",
      "C:\\Users\\DELL\\anaconda3\\lib\\site-packages\\seaborn\\categorical.py:3723: UserWarning: The `size` parameter has been renamed to `height`; please update your code.\n",
      "  warnings.warn(msg, UserWarning)\n"
     ]
    },
    {
     "data": {
      "image/png": "[encoded data removed]",
      "text/plain": [
       "<Figure size 432x432 with 1 Axes>"
      ]
     },
     "metadata": {},
     "output_type": "display_data"
    }
   ],
   "source": [
    "# Explore DebtRatio feature quantiles vs Target\n",
    "g  = sns.factorplot(x=\"Late90\",y=\"Target\",data=df,kind=\"bar\", size = 6 , \n",
    "palette = \"muted\")\n",
    "g.despine(left=True)\n",
    "g = g.set_ylabels(\"Target probability\")"
   ]
  },
  {
   "cell_type": "markdown",
   "id": "d106448e",
   "metadata": {},
   "source": [
    "# Exploring PropLines"
   ]
  },
  {
   "cell_type": "code",
   "execution_count": 68,
   "id": "257fdcca",
   "metadata": {},
   "outputs": [
    {
     "data": {
      "text/plain": [
       "count    146427.000000\n",
       "mean          1.013946\n",
       "std           1.079457\n",
       "min           0.000000\n",
       "25%           0.000000\n",
       "50%           1.000000\n",
       "75%           2.000000\n",
       "max          32.000000\n",
       "Name: PropLines, dtype: float64"
      ]
     },
     "execution_count": 68,
     "metadata": {},
     "output_type": "execute_result"
    }
   ],
   "source": [
    "df.PropLines.describe()"
   ]
  },
  {
   "cell_type": "code",
   "execution_count": 69,
   "id": "41db10e5",
   "metadata": {},
   "outputs": [
    {
     "name": "stderr",
     "output_type": "stream",
     "text": [
      "C:\\Users\\DELL\\anaconda3\\lib\\site-packages\\seaborn\\categorical.py:3717: UserWarning: The `factorplot` function has been renamed to `catplot`. The original name will be removed in a future release. Please update your code. Note that the default `kind` in `factorplot` (`'point'`) has changed `'strip'` in `catplot`.\n",
      "  warnings.warn(msg)\n",
      "C:\\Users\\DELL\\anaconda3\\lib\\site-packages\\seaborn\\categorical.py:3723: UserWarning: The `size` parameter has been renamed to `height`; please update your code.\n",
      "  warnings.warn(msg, UserWarning)\n"
     ]
    },
    {
     "data": {
      "image/png": "[encoded data removed]",
      "text/plain": [
       "<Figure size 432x432 with 1 Axes>"
      ]
     },
     "metadata": {},
     "output_type": "display_data"
    }
   ],
   "source": [
    "# Explore DebtRatio feature quantiles vs Target\n",
    "g  = sns.factorplot(x=\"PropLines\",y=\"Target\",data=df,kind=\"bar\", size = 6 , \n",
    "palette = \"muted\")\n",
    "g.despine(left=True)\n",
    "g = g.set_ylabels(\"Target probability\")"
   ]
  },
  {
   "cell_type": "code",
   "execution_count": 70,
   "id": "0094777f",
   "metadata": {},
   "outputs": [
    {
     "name": "stderr",
     "output_type": "stream",
     "text": [
      "C:\\Users\\DELL\\AppData\\Local\\Temp\\ipykernel_4704\\765220966.py:3: SettingWithCopyWarning: \n",
      "A value is trying to be set on a copy of a slice from a DataFrame\n",
      "\n",
      "See the caveats in the documentation: https://pandas.pydata.org/pandas-docs/stable/user_guide/indexing.html#returning-a-view-versus-a-copy\n",
      "  df.PropLines[i] = 6\n"
     ]
    }
   ],
   "source": [
    "for i in range(len(df)):\n",
    "    if df.PropLines[i] >= 6:\n",
    "        df.PropLines[i] = 6"
   ]
  },
  {
   "cell_type": "code",
   "execution_count": 71,
   "id": "9378c149",
   "metadata": {},
   "outputs": [
    {
     "name": "stderr",
     "output_type": "stream",
     "text": [
      "C:\\Users\\DELL\\anaconda3\\lib\\site-packages\\seaborn\\categorical.py:3717: UserWarning: The `factorplot` function has been renamed to `catplot`. The original name will be removed in a future release. Please update your code. Note that the default `kind` in `factorplot` (`'point'`) has changed `'strip'` in `catplot`.\n",
      "  warnings.warn(msg)\n",
      "C:\\Users\\DELL\\anaconda3\\lib\\site-packages\\seaborn\\categorical.py:3723: UserWarning: The `size` parameter has been renamed to `height`; please update your code.\n",
      "  warnings.warn(msg, UserWarning)\n"
     ]
    },
    {
     "data": {
      "image/png": "[encoded data removed]",
      "text/plain": [
       "<Figure size 432x432 with 1 Axes>"
      ]
     },
     "metadata": {},
     "output_type": "display_data"
    }
   ],
   "source": [
    "# Explore DebtRatio feature quantiles vs Target\n",
    "g  = sns.factorplot(x=\"PropLines\",y=\"Target\",data=df,kind=\"bar\", size = 6 , \n",
    "palette = \"muted\")\n",
    "g.despine(left=True)\n",
    "g = g.set_ylabels(\"Target probability\")"
   ]
  },
  {
   "cell_type": "markdown",
   "id": "6a85c425",
   "metadata": {},
   "source": [
    "# Exploring Late6089"
   ]
  },
  {
   "cell_type": "code",
   "execution_count": 72,
   "id": "efc79c2b",
   "metadata": {},
   "outputs": [
    {
     "name": "stderr",
     "output_type": "stream",
     "text": [
      "C:\\Users\\DELL\\anaconda3\\lib\\site-packages\\seaborn\\categorical.py:3717: UserWarning: The `factorplot` function has been renamed to `catplot`. The original name will be removed in a future release. Please update your code. Note that the default `kind` in `factorplot` (`'point'`) has changed `'strip'` in `catplot`.\n",
      "  warnings.warn(msg)\n",
      "C:\\Users\\DELL\\anaconda3\\lib\\site-packages\\seaborn\\categorical.py:3723: UserWarning: The `size` parameter has been renamed to `height`; please update your code.\n",
      "  warnings.warn(msg, UserWarning)\n"
     ]
    },
    {
     "data": {
      "image/png": "[encoded data removed]",
      "text/plain": [
       "<Figure size 432x432 with 1 Axes>"
      ]
     },
     "metadata": {},
     "output_type": "display_data"
    }
   ],
   "source": [
    "# Explore Late6089 feature quantiles vs Target\n",
    "g  = sns.factorplot(x=\"Late6089\",y=\"Target\",data=df,kind=\"bar\", size = 6 , \n",
    "palette = \"muted\")\n",
    "g.despine(left=True)\n",
    "g = g.set_ylabels(\"Target probability\")"
   ]
  },
  {
   "cell_type": "code",
   "execution_count": 73,
   "id": "15732936",
   "metadata": {},
   "outputs": [
    {
     "name": "stderr",
     "output_type": "stream",
     "text": [
      "C:\\Users\\DELL\\AppData\\Local\\Temp\\ipykernel_4704\\645463412.py:3: SettingWithCopyWarning: \n",
      "A value is trying to be set on a copy of a slice from a DataFrame\n",
      "\n",
      "See the caveats in the documentation: https://pandas.pydata.org/pandas-docs/stable/user_guide/indexing.html#returning-a-view-versus-a-copy\n",
      "  df.Late6089[i] = 3\n"
     ]
    }
   ],
   "source": [
    "for i in range(len(df)):\n",
    "    if df.Late6089[i] >= 3:\n",
    "        df.Late6089[i] = 3"
   ]
  },
  {
   "cell_type": "code",
   "execution_count": 74,
   "id": "3239d132",
   "metadata": {},
   "outputs": [
    {
     "name": "stderr",
     "output_type": "stream",
     "text": [
      "C:\\Users\\DELL\\anaconda3\\lib\\site-packages\\seaborn\\categorical.py:3717: UserWarning: The `factorplot` function has been renamed to `catplot`. The original name will be removed in a future release. Please update your code. Note that the default `kind` in `factorplot` (`'point'`) has changed `'strip'` in `catplot`.\n",
      "  warnings.warn(msg)\n",
      "C:\\Users\\DELL\\anaconda3\\lib\\site-packages\\seaborn\\categorical.py:3723: UserWarning: The `size` parameter has been renamed to `height`; please update your code.\n",
      "  warnings.warn(msg, UserWarning)\n"
     ]
    },
    {
     "data": {
      "image/png": "[encoded data removed]",
      "text/plain": [
       "<Figure size 432x432 with 1 Axes>"
      ]
     },
     "metadata": {},
     "output_type": "display_data"
    }
   ],
   "source": [
    "# Explore Late6089 feature quantiles vs Target\n",
    "g  = sns.factorplot(x=\"Late6089\",y=\"Target\",data=df,kind=\"bar\", size = 6 , \n",
    "palette = \"muted\")\n",
    "g.despine(left=True)\n",
    "g = g.set_ylabels(\"Target probability\")"
   ]
  },
  {
   "cell_type": "markdown",
   "id": "cc320c88",
   "metadata": {},
   "source": [
    "# Exploring Deps"
   ]
  },
  {
   "cell_type": "code",
   "execution_count": 75,
   "id": "ecb1d29a",
   "metadata": {},
   "outputs": [
    {
     "data": {
      "text/plain": [
       "count    142661.000000\n",
       "mean          0.756247\n",
       "std           1.113620\n",
       "min           0.000000\n",
       "25%           0.000000\n",
       "50%           0.000000\n",
       "75%           1.000000\n",
       "max          20.000000\n",
       "Name: Deps, dtype: float64"
      ]
     },
     "execution_count": 75,
     "metadata": {},
     "output_type": "execute_result"
    }
   ],
   "source": [
    "df.Deps.describe()"
   ]
  },
  {
   "cell_type": "code",
   "execution_count": 76,
   "id": "e9ed93f0",
   "metadata": {},
   "outputs": [],
   "source": [
    "df.Deps = df.Deps.fillna(df.Deps.median())"
   ]
  },
  {
   "cell_type": "code",
   "execution_count": 77,
   "id": "d2357e0a",
   "metadata": {},
   "outputs": [
    {
     "data": {
      "text/plain": [
       "0"
      ]
     },
     "execution_count": 77,
     "metadata": {},
     "output_type": "execute_result"
    }
   ],
   "source": [
    "df.Deps.isnull().sum()"
   ]
  },
  {
   "cell_type": "code",
   "execution_count": 78,
   "id": "7c434b9c",
   "metadata": {},
   "outputs": [
    {
     "name": "stderr",
     "output_type": "stream",
     "text": [
      "C:\\Users\\DELL\\anaconda3\\lib\\site-packages\\seaborn\\categorical.py:3717: UserWarning: The `factorplot` function has been renamed to `catplot`. The original name will be removed in a future release. Please update your code. Note that the default `kind` in `factorplot` (`'point'`) has changed `'strip'` in `catplot`.\n",
      "  warnings.warn(msg)\n",
      "C:\\Users\\DELL\\anaconda3\\lib\\site-packages\\seaborn\\categorical.py:3723: UserWarning: The `size` parameter has been renamed to `height`; please update your code.\n",
      "  warnings.warn(msg, UserWarning)\n"
     ]
    },
    {
     "data": {
      "image/png": "[encoded data removed]",
      "text/plain": [
       "<Figure size 432x432 with 1 Axes>"
      ]
     },
     "metadata": {},
     "output_type": "display_data"
    }
   ],
   "source": [
    "# Explore DebtRatio feature quantiles vs Target\n",
    "g  = sns.factorplot(x=\"Deps\",y=\"Target\",data=df,kind=\"bar\", size = 6 , \n",
    "palette = \"muted\")\n",
    "g.despine(left=True)\n",
    "g = g.set_ylabels(\"Target probability\")"
   ]
  },
  {
   "cell_type": "code",
   "execution_count": 80,
   "id": "92eea1f4",
   "metadata": {},
   "outputs": [
    {
     "name": "stderr",
     "output_type": "stream",
     "text": [
      "C:\\Users\\DELL\\AppData\\Local\\Temp\\ipykernel_4704\\2135212684.py:3: SettingWithCopyWarning: \n",
      "A value is trying to be set on a copy of a slice from a DataFrame\n",
      "\n",
      "See the caveats in the documentation: https://pandas.pydata.org/pandas-docs/stable/user_guide/indexing.html#returning-a-view-versus-a-copy\n",
      "  df.Deps[i] = 4\n"
     ]
    }
   ],
   "source": [
    "for i in range(len(df)):\n",
    "    if df.Deps[i] >= 4:\n",
    "        df.Deps[i] = 4"
   ]
  },
  {
   "cell_type": "code",
   "execution_count": 81,
   "id": "6ada8d5c",
   "metadata": {},
   "outputs": [
    {
     "name": "stderr",
     "output_type": "stream",
     "text": [
      "C:\\Users\\DELL\\anaconda3\\lib\\site-packages\\seaborn\\categorical.py:3717: UserWarning: The `factorplot` function has been renamed to `catplot`. The original name will be removed in a future release. Please update your code. Note that the default `kind` in `factorplot` (`'point'`) has changed `'strip'` in `catplot`.\n",
      "  warnings.warn(msg)\n",
      "C:\\Users\\DELL\\anaconda3\\lib\\site-packages\\seaborn\\categorical.py:3723: UserWarning: The `size` parameter has been renamed to `height`; please update your code.\n",
      "  warnings.warn(msg, UserWarning)\n"
     ]
    },
    {
     "data": {
      "image/png": "[encoded data removed]",
      "text/plain": [
       "<Figure size 432x432 with 1 Axes>"
      ]
     },
     "metadata": {},
     "output_type": "display_data"
    }
   ],
   "source": [
    "# Explore DebtRatio feature quantiles vs Target\n",
    "g  = sns.factorplot(x=\"Deps\",y=\"Target\",data=df,kind=\"bar\", size = 6 , \n",
    "palette = \"muted\")\n",
    "g.despine(left=True)\n",
    "g = g.set_ylabels(\"Target probability\")"
   ]
  },
  {
   "cell_type": "markdown",
   "id": "1e7d5bc0",
   "metadata": {},
   "source": [
    "# Final NaN check"
   ]
  },
  {
   "cell_type": "code",
   "execution_count": 82,
   "id": "4fc25a99",
   "metadata": {},
   "outputs": [
    {
     "name": "stdout",
     "output_type": "stream",
     "text": [
      "<class 'pandas.core.frame.DataFrame'>\n",
      "RangeIndex: 146427 entries, 0 to 146426\n",
      "Data columns (total 12 columns):\n",
      " #   Column         Non-Null Count   Dtype  \n",
      "---  ------         --------------   -----  \n",
      " 0   Unknown        146427 non-null  int64  \n",
      " 1   Target         146427 non-null  int64  \n",
      " 2   UnsecLines     146427 non-null  int8   \n",
      " 3   age            146427 non-null  int8   \n",
      " 4   Late3059       146427 non-null  int64  \n",
      " 5   DebtRatio      146427 non-null  int8   \n",
      " 6   MonthlyIncome  146427 non-null  int8   \n",
      " 7   OpenCredit     146427 non-null  int8   \n",
      " 8   Late90         146427 non-null  int64  \n",
      " 9   PropLines      146427 non-null  int64  \n",
      " 10  Late6089       146427 non-null  int64  \n",
      " 11  Deps           146427 non-null  float64\n",
      "dtypes: float64(1), int64(6), int8(5)\n",
      "memory usage: 8.5 MB\n"
     ]
    }
   ],
   "source": [
    "df.info()"
   ]
  },
  {
   "cell_type": "code",
   "execution_count": 83,
   "id": "a8d22664",
   "metadata": {},
   "outputs": [
    {
     "data": {
      "text/html": [
       "<div>\n",
       "<style scoped>\n",
       "    .dataframe tbody tr th:only-of-type {\n",
       "        vertical-align: middle;\n",
       "    }\n",
       "\n",
       "    .dataframe tbody tr th {\n",
       "        vertical-align: top;\n",
       "    }\n",
       "\n",
       "    .dataframe thead th {\n",
       "        text-align: right;\n",
       "    }\n",
       "</style>\n",
       "<table border=\"1\" class=\"dataframe\">\n",
       "  <thead>\n",
       "    <tr style=\"text-align: right;\">\n",
       "      <th></th>\n",
       "      <th>Unknown</th>\n",
       "      <th>Target</th>\n",
       "      <th>UnsecLines</th>\n",
       "      <th>age</th>\n",
       "      <th>Late3059</th>\n",
       "      <th>DebtRatio</th>\n",
       "      <th>MonthlyIncome</th>\n",
       "      <th>OpenCredit</th>\n",
       "      <th>Late90</th>\n",
       "      <th>PropLines</th>\n",
       "      <th>Late6089</th>\n",
       "      <th>Deps</th>\n",
       "    </tr>\n",
       "  </thead>\n",
       "  <tbody>\n",
       "    <tr>\n",
       "      <th>0</th>\n",
       "      <td>9</td>\n",
       "      <td>0</td>\n",
       "      <td>2</td>\n",
       "      <td>0</td>\n",
       "      <td>0</td>\n",
       "      <td>4</td>\n",
       "      <td>2</td>\n",
       "      <td>0</td>\n",
       "      <td>0</td>\n",
       "      <td>0</td>\n",
       "      <td>0</td>\n",
       "      <td>0.0</td>\n",
       "    </tr>\n",
       "    <tr>\n",
       "      <th>1</th>\n",
       "      <td>10</td>\n",
       "      <td>0</td>\n",
       "      <td>2</td>\n",
       "      <td>3</td>\n",
       "      <td>0</td>\n",
       "      <td>3</td>\n",
       "      <td>4</td>\n",
       "      <td>2</td>\n",
       "      <td>0</td>\n",
       "      <td>4</td>\n",
       "      <td>0</td>\n",
       "      <td>2.0</td>\n",
       "    </tr>\n",
       "    <tr>\n",
       "      <th>2</th>\n",
       "      <td>11</td>\n",
       "      <td>0</td>\n",
       "      <td>3</td>\n",
       "      <td>0</td>\n",
       "      <td>0</td>\n",
       "      <td>2</td>\n",
       "      <td>0</td>\n",
       "      <td>1</td>\n",
       "      <td>0</td>\n",
       "      <td>0</td>\n",
       "      <td>0</td>\n",
       "      <td>0.0</td>\n",
       "    </tr>\n",
       "    <tr>\n",
       "      <th>3</th>\n",
       "      <td>12</td>\n",
       "      <td>0</td>\n",
       "      <td>1</td>\n",
       "      <td>2</td>\n",
       "      <td>0</td>\n",
       "      <td>3</td>\n",
       "      <td>3</td>\n",
       "      <td>1</td>\n",
       "      <td>0</td>\n",
       "      <td>2</td>\n",
       "      <td>0</td>\n",
       "      <td>2.0</td>\n",
       "    </tr>\n",
       "    <tr>\n",
       "      <th>4</th>\n",
       "      <td>13</td>\n",
       "      <td>0</td>\n",
       "      <td>0</td>\n",
       "      <td>1</td>\n",
       "      <td>0</td>\n",
       "      <td>2</td>\n",
       "      <td>4</td>\n",
       "      <td>4</td>\n",
       "      <td>0</td>\n",
       "      <td>2</td>\n",
       "      <td>0</td>\n",
       "      <td>2.0</td>\n",
       "    </tr>\n",
       "  </tbody>\n",
       "</table>\n",
       "</div>"
      ],
      "text/plain": [
       "   Unknown  Target  UnsecLines  age  Late3059  DebtRatio  MonthlyIncome  \\\n",
       "0        9       0           2    0         0          4              2   \n",
       "1       10       0           2    3         0          3              4   \n",
       "2       11       0           3    0         0          2              0   \n",
       "3       12       0           1    2         0          3              3   \n",
       "4       13       0           0    1         0          2              4   \n",
       "\n",
       "   OpenCredit  Late90  PropLines  Late6089  Deps  \n",
       "0           0       0          0         0   0.0  \n",
       "1           2       0          4         0   2.0  \n",
       "2           1       0          0         0   0.0  \n",
       "3           1       0          2         0   2.0  \n",
       "4           4       0          2         0   2.0  "
      ]
     },
     "execution_count": 83,
     "metadata": {},
     "output_type": "execute_result"
    }
   ],
   "source": [
    "df.head()"
   ]
  },
  {
   "cell_type": "markdown",
   "id": "1cc3aad9",
   "metadata": {},
   "source": [
    "Building binary/dummy variables\n",
    "\n"
   ]
  },
  {
   "cell_type": "code",
   "execution_count": 84,
   "id": "14c660df",
   "metadata": {},
   "outputs": [],
   "source": [
    "df = pd.get_dummies(df, columns = [\"UnsecLines\"], prefix=\"UnsecLines\")\n",
    "df = pd.get_dummies(df, columns = [\"age\"], prefix=\"age\")\n",
    "df = pd.get_dummies(df, columns = [\"Late3059\"], prefix=\"Late3059\")\n",
    "df = pd.get_dummies(df, columns = [\"DebtRatio\"], prefix=\"DebtRatio\")\n",
    "df = pd.get_dummies(df, columns = [\"MonthlyIncome\"], prefix=\"MonthlyIncome\")\n",
    "df = pd.get_dummies(df, columns = [\"OpenCredit\"], prefix=\"OpenCredit\")\n",
    "df = pd.get_dummies(df, columns = [\"Late90\"], prefix=\"Late90\")\n",
    "df = pd.get_dummies(df, columns = [\"PropLines\"], prefix=\"PropLines\")\n",
    "df = pd.get_dummies(df, columns = [\"Late6089\"], prefix=\"Late6089\")\n",
    "df = pd.get_dummies(df, columns = [\"Deps\"], prefix=\"Deps\")"
   ]
  },
  {
   "cell_type": "code",
   "execution_count": 85,
   "id": "a6bc6d4b",
   "metadata": {},
   "outputs": [
    {
     "data": {
      "text/html": [
       "<div>\n",
       "<style scoped>\n",
       "    .dataframe tbody tr th:only-of-type {\n",
       "        vertical-align: middle;\n",
       "    }\n",
       "\n",
       "    .dataframe tbody tr th {\n",
       "        vertical-align: top;\n",
       "    }\n",
       "\n",
       "    .dataframe thead th {\n",
       "        text-align: right;\n",
       "    }\n",
       "</style>\n",
       "<table border=\"1\" class=\"dataframe\">\n",
       "  <thead>\n",
       "    <tr style=\"text-align: right;\">\n",
       "      <th></th>\n",
       "      <th>Unknown</th>\n",
       "      <th>Target</th>\n",
       "      <th>UnsecLines_0</th>\n",
       "      <th>UnsecLines_1</th>\n",
       "      <th>UnsecLines_2</th>\n",
       "      <th>UnsecLines_3</th>\n",
       "      <th>UnsecLines_4</th>\n",
       "      <th>age_0</th>\n",
       "      <th>age_1</th>\n",
       "      <th>age_2</th>\n",
       "      <th>...</th>\n",
       "      <th>PropLines_6</th>\n",
       "      <th>Late6089_0</th>\n",
       "      <th>Late6089_1</th>\n",
       "      <th>Late6089_2</th>\n",
       "      <th>Late6089_3</th>\n",
       "      <th>Deps_0.0</th>\n",
       "      <th>Deps_1.0</th>\n",
       "      <th>Deps_2.0</th>\n",
       "      <th>Deps_3.0</th>\n",
       "      <th>Deps_4.0</th>\n",
       "    </tr>\n",
       "  </thead>\n",
       "  <tbody>\n",
       "    <tr>\n",
       "      <th>0</th>\n",
       "      <td>9</td>\n",
       "      <td>0</td>\n",
       "      <td>0</td>\n",
       "      <td>0</td>\n",
       "      <td>1</td>\n",
       "      <td>0</td>\n",
       "      <td>0</td>\n",
       "      <td>1</td>\n",
       "      <td>0</td>\n",
       "      <td>0</td>\n",
       "      <td>...</td>\n",
       "      <td>0</td>\n",
       "      <td>1</td>\n",
       "      <td>0</td>\n",
       "      <td>0</td>\n",
       "      <td>0</td>\n",
       "      <td>1</td>\n",
       "      <td>0</td>\n",
       "      <td>0</td>\n",
       "      <td>0</td>\n",
       "      <td>0</td>\n",
       "    </tr>\n",
       "    <tr>\n",
       "      <th>1</th>\n",
       "      <td>10</td>\n",
       "      <td>0</td>\n",
       "      <td>0</td>\n",
       "      <td>0</td>\n",
       "      <td>1</td>\n",
       "      <td>0</td>\n",
       "      <td>0</td>\n",
       "      <td>0</td>\n",
       "      <td>0</td>\n",
       "      <td>0</td>\n",
       "      <td>...</td>\n",
       "      <td>0</td>\n",
       "      <td>1</td>\n",
       "      <td>0</td>\n",
       "      <td>0</td>\n",
       "      <td>0</td>\n",
       "      <td>0</td>\n",
       "      <td>0</td>\n",
       "      <td>1</td>\n",
       "      <td>0</td>\n",
       "      <td>0</td>\n",
       "    </tr>\n",
       "    <tr>\n",
       "      <th>2</th>\n",
       "      <td>11</td>\n",
       "      <td>0</td>\n",
       "      <td>0</td>\n",
       "      <td>0</td>\n",
       "      <td>0</td>\n",
       "      <td>1</td>\n",
       "      <td>0</td>\n",
       "      <td>1</td>\n",
       "      <td>0</td>\n",
       "      <td>0</td>\n",
       "      <td>...</td>\n",
       "      <td>0</td>\n",
       "      <td>1</td>\n",
       "      <td>0</td>\n",
       "      <td>0</td>\n",
       "      <td>0</td>\n",
       "      <td>1</td>\n",
       "      <td>0</td>\n",
       "      <td>0</td>\n",
       "      <td>0</td>\n",
       "      <td>0</td>\n",
       "    </tr>\n",
       "    <tr>\n",
       "      <th>3</th>\n",
       "      <td>12</td>\n",
       "      <td>0</td>\n",
       "      <td>0</td>\n",
       "      <td>1</td>\n",
       "      <td>0</td>\n",
       "      <td>0</td>\n",
       "      <td>0</td>\n",
       "      <td>0</td>\n",
       "      <td>0</td>\n",
       "      <td>1</td>\n",
       "      <td>...</td>\n",
       "      <td>0</td>\n",
       "      <td>1</td>\n",
       "      <td>0</td>\n",
       "      <td>0</td>\n",
       "      <td>0</td>\n",
       "      <td>0</td>\n",
       "      <td>0</td>\n",
       "      <td>1</td>\n",
       "      <td>0</td>\n",
       "      <td>0</td>\n",
       "    </tr>\n",
       "    <tr>\n",
       "      <th>4</th>\n",
       "      <td>13</td>\n",
       "      <td>0</td>\n",
       "      <td>1</td>\n",
       "      <td>0</td>\n",
       "      <td>0</td>\n",
       "      <td>0</td>\n",
       "      <td>0</td>\n",
       "      <td>0</td>\n",
       "      <td>1</td>\n",
       "      <td>0</td>\n",
       "      <td>...</td>\n",
       "      <td>0</td>\n",
       "      <td>1</td>\n",
       "      <td>0</td>\n",
       "      <td>0</td>\n",
       "      <td>0</td>\n",
       "      <td>0</td>\n",
       "      <td>0</td>\n",
       "      <td>1</td>\n",
       "      <td>0</td>\n",
       "      <td>0</td>\n",
       "    </tr>\n",
       "  </tbody>\n",
       "</table>\n",
       "<p>5 rows × 56 columns</p>\n",
       "</div>"
      ],
      "text/plain": [
       "   Unknown  Target  UnsecLines_0  UnsecLines_1  UnsecLines_2  UnsecLines_3  \\\n",
       "0        9       0             0             0             1             0   \n",
       "1       10       0             0             0             1             0   \n",
       "2       11       0             0             0             0             1   \n",
       "3       12       0             0             1             0             0   \n",
       "4       13       0             1             0             0             0   \n",
       "\n",
       "   UnsecLines_4  age_0  age_1  age_2  ...  PropLines_6  Late6089_0  \\\n",
       "0             0      1      0      0  ...            0           1   \n",
       "1             0      0      0      0  ...            0           1   \n",
       "2             0      1      0      0  ...            0           1   \n",
       "3             0      0      0      1  ...            0           1   \n",
       "4             0      0      1      0  ...            0           1   \n",
       "\n",
       "   Late6089_1  Late6089_2  Late6089_3  Deps_0.0  Deps_1.0  Deps_2.0  Deps_3.0  \\\n",
       "0           0           0           0         1         0         0         0   \n",
       "1           0           0           0         0         0         1         0   \n",
       "2           0           0           0         1         0         0         0   \n",
       "3           0           0           0         0         0         1         0   \n",
       "4           0           0           0         0         0         1         0   \n",
       "\n",
       "   Deps_4.0  \n",
       "0         0  \n",
       "1         0  \n",
       "2         0  \n",
       "3         0  \n",
       "4         0  \n",
       "\n",
       "[5 rows x 56 columns]"
      ]
     },
     "execution_count": 85,
     "metadata": {},
     "output_type": "execute_result"
    }
   ],
   "source": [
    "df.head()"
   ]
  },
  {
   "cell_type": "code",
   "execution_count": 86,
   "id": "1d468393",
   "metadata": {},
   "outputs": [
    {
     "data": {
      "text/plain": [
       "(146427, 56)"
      ]
     },
     "execution_count": 86,
     "metadata": {},
     "output_type": "execute_result"
    }
   ],
   "source": [
    "df.shape"
   ]
  },
  {
   "cell_type": "markdown",
   "id": "b5e23ec9",
   "metadata": {},
   "source": [
    "# Building our credit scoring model\n"
   ]
  },
  {
   "cell_type": "code",
   "execution_count": 89,
   "id": "817e8386",
   "metadata": {},
   "outputs": [
    {
     "name": "stderr",
     "output_type": "stream",
     "text": [
      "C:\\Users\\DELL\\AppData\\Local\\Temp\\ipykernel_4704\\831431158.py:3: SettingWithCopyWarning: \n",
      "A value is trying to be set on a copy of a slice from a DataFrame\n",
      "\n",
      "See the caveats in the documentation: https://pandas.pydata.org/pandas-docs/stable/user_guide/indexing.html#returning-a-view-versus-a-copy\n",
      "  df_test.drop(labels=[\"Target\"],axis = 1,inplace=True)\n"
     ]
    }
   ],
   "source": [
    "train = df[:df_len]\n",
    "df_test = df[df_len:]\n",
    "df_test.drop(labels=[\"Target\"],axis = 1,inplace=True)"
   ]
  },
  {
   "cell_type": "code",
   "execution_count": 90,
   "id": "d68bbe53",
   "metadata": {},
   "outputs": [
    {
     "data": {
      "text/plain": [
       "(0, 55)"
      ]
     },
     "execution_count": 90,
     "metadata": {},
     "output_type": "execute_result"
    }
   ],
   "source": [
    "df_test.shape"
   ]
  },
  {
   "cell_type": "code",
   "execution_count": 91,
   "id": "1a5f61d6",
   "metadata": {},
   "outputs": [
    {
     "data": {
      "text/plain": [
       "(146427, 56)"
      ]
     },
     "execution_count": 91,
     "metadata": {},
     "output_type": "execute_result"
    }
   ],
   "source": [
    "train.shape"
   ]
  },
  {
   "cell_type": "code",
   "execution_count": null,
   "id": "ed3065e7",
   "metadata": {},
   "outputs": [],
   "source": []
  }
 ],
 "metadata": {
  "kernelspec": {
   "display_name": "Python 3 (ipykernel)",
   "language": "python",
   "name": "python3"
  },
  "language_info": {
   "codemirror_mode": {
    "name": "ipython",
    "version": 3
   },
   "file_extension": ".py",
   "mimetype": "text/x-python",
   "name": "python",
   "nbconvert_exporter": "python",
   "pygments_lexer": "ipython3",
   "version": "3.9.12"
  }
 },
 "nbformat": 4,
 "nbformat_minor": 5
}
