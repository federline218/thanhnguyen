{
 "cells": [
  {
   "cell_type": "code",
   "execution_count": 1,
   "id": "6006e660",
   "metadata": {},
   "outputs": [],
   "source": [
    "import pandas as pd\n",
    "from scipy import  stats\n",
    "\n",
    "df = pd.read_csv(\"E:\\PTDL\\shopeep_koreantop_clothing_shop_data.csv\", encoding=\"UTF-8\")"
   ]
  },
  {
   "cell_type": "code",
   "execution_count": 2,
   "id": "6daf7e1c",
   "metadata": {},
   "outputs": [
    {
     "data": {
      "text/plain": [
       "'\\nrating_star và follower_count là hai thuộc tính định lượng, sử dụng kiểm định pearson để kiểm định mức độ tương quan giữa hai thuộc tính\\n\\nGiả thuyết không: Giữa hai thuộc tính không có sự tương quan tuyến tính\\n\\nGiả thuyết đối: Giữa hai thuộc tính có sự tương quan tuyến tính\\n'"
      ]
     },
     "execution_count": 2,
     "metadata": {},
     "output_type": "execute_result"
    }
   ],
   "source": [
    "'''\n",
    "rating_star và follower_count là hai thuộc tính định lượng, sử dụng kiểm định pearson để kiểm định mức độ tương quan giữa hai thuộc tính\n",
    "\n",
    "Giả thuyết không: Giữa hai thuộc tính không có sự tương quan tuyến tính\n",
    "\n",
    "Giả thuyết đối: Giữa hai thuộc tính có sự tương quan tuyến tính\n",
    "'''"
   ]
  },
  {
   "cell_type": "code",
   "execution_count": 3,
   "id": "f0ebc2a0",
   "metadata": {},
   "outputs": [
    {
     "name": "stdout",
     "output_type": "stream",
     "text": [
      "(0.02749005984630104, 0.4552522676325689)\n"
     ]
    }
   ],
   "source": [
    "df1 = df.filter([\"rating_star\", \"follower_count\"])\n",
    "df1 = df1.dropna()\n",
    "print(stats.pearsonr(df1.rating_star, df1.follower_count))"
   ]
  },
  {
   "cell_type": "code",
   "execution_count": 4,
   "id": "000c4c16",
   "metadata": {},
   "outputs": [
    {
     "data": {
      "text/plain": [
       "'\\ndo p value > 5% nên không có đủ cơ sở bác bỏ giả thuyết không\\n\\nKết luận: giữa rating_star và follower_count không có mối tương quan tuyến tính\\n'"
      ]
     },
     "execution_count": 4,
     "metadata": {},
     "output_type": "execute_result"
    }
   ],
   "source": [
    "'''\n",
    "do p value > 5% nên không có đủ cơ sở bác bỏ giả thuyết không\n",
    "\n",
    "Kết luận: giữa rating_star và follower_count không có mối tương quan tuyến tính\n",
    "'''"
   ]
  },
  {
   "cell_type": "code",
   "execution_count": 5,
   "id": "e185e63f",
   "metadata": {},
   "outputs": [
    {
     "data": {
      "text/plain": [
       "'\\nGiữa rating_star và số lượng sản phẩm (item_count) có tương quan với nhau hay không\\nrating_star và item_count là hai thuộc tính định lượng, sử dụng kiểm định pearson để kiểm định mức độ tương quan giữa hai thuộc tính\\n\\nGiả thuyết không: Giữa hai thuộc tính không có sự tương quan tuyến tính\\n\\nGiả thuyết đối: Giữa hai thuộc tính có sự tương quan tuyến tính\\n'"
      ]
     },
     "execution_count": 5,
     "metadata": {},
     "output_type": "execute_result"
    }
   ],
   "source": [
    "'''\n",
    "Giữa rating_star và số lượng sản phẩm (item_count) có tương quan với nhau hay không\n",
    "rating_star và item_count là hai thuộc tính định lượng, sử dụng kiểm định pearson để kiểm định mức độ tương quan giữa hai thuộc tính\n",
    "\n",
    "Giả thuyết không: Giữa hai thuộc tính không có sự tương quan tuyến tính\n",
    "\n",
    "Giả thuyết đối: Giữa hai thuộc tính có sự tương quan tuyến tính\n",
    "'''"
   ]
  },
  {
   "cell_type": "code",
   "execution_count": 6,
   "id": "25f932cd",
   "metadata": {},
   "outputs": [
    {
     "name": "stdout",
     "output_type": "stream",
     "text": [
      "(-0.03732626070920735, 0.3105727616062792)\n"
     ]
    }
   ],
   "source": [
    "df2 = df.filter([\"rating_star\", \"item_count\"])\n",
    "df2 = df2.dropna()\n",
    "print(stats.pearsonr(df2.rating_star, df2.item_count))"
   ]
  },
  {
   "cell_type": "code",
   "execution_count": 7,
   "id": "ff6884c9",
   "metadata": {},
   "outputs": [
    {
     "data": {
      "text/plain": [
       "'\\ndo p value > 5% nên không có đủ cơ sở bác bỏ giả thuyết không\\n\\nKết luận: giữa rating_star và item_count không có mối tương quan tuyến tính\\n'"
      ]
     },
     "execution_count": 7,
     "metadata": {},
     "output_type": "execute_result"
    }
   ],
   "source": [
    "'''\n",
    "do p value > 5% nên không có đủ cơ sở bác bỏ giả thuyết không\n",
    "\n",
    "Kết luận: giữa rating_star và item_count không có mối tương quan tuyến tính\n",
    "'''"
   ]
  },
  {
   "cell_type": "code",
   "execution_count": 8,
   "id": "ea1e92ed",
   "metadata": {},
   "outputs": [
    {
     "data": {
      "text/plain": [
       "'\\nGiữa is_shopee_verified và việc có cửa hàng trưng bày (is_official_shop) có tương quan với nhau hay không\\nis_shopee_verified và item_count là hai thuộc tính định lượng, sử dụng kiểm định pearson để kiểm định mức độ tương quan giữa hai thuộc tính\\n\\nGiả thuyết không: Giữa hai thuộc tính không có sự tương quan tuyến tính\\n\\nGiả thuyết đối: Giữa hai thuộc tính có sự tương quan tuyến tính\\n'"
      ]
     },
     "execution_count": 8,
     "metadata": {},
     "output_type": "execute_result"
    }
   ],
   "source": [
    "'''\n",
    "Giữa is_shopee_verified và việc có cửa hàng trưng bày (is_official_shop) có tương quan với nhau hay không\n",
    "is_shopee_verified và item_count là hai thuộc tính định lượng, sử dụng kiểm định pearson để kiểm định mức độ tương quan giữa hai thuộc tính\n",
    "\n",
    "Giả thuyết không: Giữa hai thuộc tính không có sự tương quan tuyến tính\n",
    "\n",
    "Giả thuyết đối: Giữa hai thuộc tính có sự tương quan tuyến tính\n",
    "'''"
   ]
  },
  {
   "cell_type": "code",
   "execution_count": 9,
   "id": "f7b0d05a",
   "metadata": {},
   "outputs": [
    {
     "name": "stdout",
     "output_type": "stream",
     "text": [
      "(-0.044589009043606104, 0.22382403995765798)\n"
     ]
    }
   ],
   "source": [
    "df3 = df.filter([\"is_shopee_verified\", \"is_official_shop\"])\n",
    "df3 = df3.dropna()\n",
    "print(stats.pearsonr(df3.is_shopee_verified, df3.is_official_shop))"
   ]
  },
  {
   "cell_type": "code",
   "execution_count": 10,
   "id": "5f047e2f",
   "metadata": {},
   "outputs": [
    {
     "data": {
      "text/plain": [
       "'\\ndo p value > 5% nên không có đủ cơ sở bác bỏ giả thuyết không\\n\\nKết luận: giữa is_shopee_verified và is_official_shop không có mối tương quan tuyến tính\\n'"
      ]
     },
     "execution_count": 10,
     "metadata": {},
     "output_type": "execute_result"
    }
   ],
   "source": [
    "'''\n",
    "do p value > 5% nên không có đủ cơ sở bác bỏ giả thuyết không\n",
    "\n",
    "Kết luận: giữa is_shopee_verified và is_official_shop không có mối tương quan tuyến tính\n",
    "'''"
   ]
  },
  {
   "cell_type": "code",
   "execution_count": null,
   "id": "0f5d3aed",
   "metadata": {},
   "outputs": [],
   "source": []
  }
 ],
 "metadata": {
  "kernelspec": {
   "display_name": "Python 3 (ipykernel)",
   "language": "python",
   "name": "python3"
  },
  "language_info": {
   "codemirror_mode": {
    "name": "ipython",
    "version": 3
   },
   "file_extension": ".py",
   "mimetype": "text/x-python",
   "name": "python",
   "nbconvert_exporter": "python",
   "pygments_lexer": "ipython3",
   "version": "3.9.12"
  }
 },
 "nbformat": 4,
 "nbformat_minor": 5
}
